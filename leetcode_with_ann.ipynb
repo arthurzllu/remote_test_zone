{
  "cells": [
    {
      "cell_type": "markdown",
      "metadata": {
        "id": "view-in-github",
        "colab_type": "text"
      },
      "source": [
        "<a href=\"https://colab.research.google.com/github/arthurzllu/remote_test_zone/blob/main/leetcode_with_ann.ipynb\" target=\"_parent\"><img src=\"https://colab.research.google.com/assets/colab-badge.svg\" alt=\"Open In Colab\"/></a>"
      ]
    },
    {
      "cell_type": "markdown",
      "id": "15138229-d623-42b0-89c1-ded9d17dd103",
      "metadata": {
        "id": "15138229-d623-42b0-89c1-ded9d17dd103"
      },
      "source": [
        "# LeetCode with Ann"
      ]
    },
    {
      "cell_type": "markdown",
      "id": "a7b9cb48-3b6d-4b3f-8e08-7704a2409b1a",
      "metadata": {
        "id": "a7b9cb48-3b6d-4b3f-8e08-7704a2409b1a"
      },
      "source": [
        "## 2024-05-21"
      ]
    },
    {
      "cell_type": "markdown",
      "id": "731c191d-bcc4-4a1a-8da5-7548f0d86b25",
      "metadata": {
        "id": "731c191d-bcc4-4a1a-8da5-7548f0d86b25"
      },
      "source": [
        "### 118. Pascal's Triangle"
      ]
    },
    {
      "cell_type": "code",
      "execution_count": null,
      "id": "5dc9e815-7557-46a0-befd-78468f4a2543",
      "metadata": {
        "id": "5dc9e815-7557-46a0-befd-78468f4a2543"
      },
      "outputs": [],
      "source": [
        "def generate(numRows):\n",
        "    output = []\n",
        "    for i in range(numRows):\n",
        "        row = [1]\n",
        "        for j in range(0, i):\n",
        "            print(i, output[-1], j, j + 2, sum(output[-1][j : j + 2]))\n",
        "            row.append(sum(output[-1][j : j + 2]))\n",
        "        output.append(row)\n",
        "    return output"
      ]
    },
    {
      "cell_type": "code",
      "execution_count": null,
      "id": "4547bc52-b287-4ccd-87a8-82371f165b36",
      "metadata": {
        "id": "4547bc52-b287-4ccd-87a8-82371f165b36",
        "outputId": "4265f548-2063-4d2c-9d57-be62a8b7121d"
      },
      "outputs": [
        {
          "name": "stdout",
          "output_type": "stream",
          "text": [
            "1 [1] 0 2 1\n",
            "2 [1, 1] 0 2 2\n",
            "2 [1, 1] 1 3 1\n",
            "3 [1, 2, 1] 0 2 3\n",
            "3 [1, 2, 1] 1 3 3\n",
            "3 [1, 2, 1] 2 4 1\n",
            "4 [1, 3, 3, 1] 0 2 4\n",
            "4 [1, 3, 3, 1] 1 3 6\n",
            "4 [1, 3, 3, 1] 2 4 4\n",
            "4 [1, 3, 3, 1] 3 5 1\n"
          ]
        },
        {
          "data": {
            "text/plain": [
              "[[1], [1, 1], [1, 2, 1], [1, 3, 3, 1], [1, 4, 6, 4, 1]]"
            ]
          },
          "execution_count": 2,
          "metadata": {},
          "output_type": "execute_result"
        }
      ],
      "source": [
        "generate(5)"
      ]
    },
    {
      "cell_type": "code",
      "execution_count": null,
      "id": "cd219ca2-2284-4384-ac36-10c64307d542",
      "metadata": {
        "id": "cd219ca2-2284-4384-ac36-10c64307d542",
        "outputId": "d4bb1156-8c78-4da4-d52c-2d69993e96ea"
      },
      "outputs": [
        {
          "data": {
            "text/plain": [
              "0"
            ]
          },
          "execution_count": 3,
          "metadata": {},
          "output_type": "execute_result"
        }
      ],
      "source": [
        "A = [1, 2, 3]\n",
        "sum(A[3 : 5])"
      ]
    },
    {
      "cell_type": "markdown",
      "id": "3f370d12-6a6b-42d3-9a44-e6f65099a70f",
      "metadata": {
        "id": "3f370d12-6a6b-42d3-9a44-e6f65099a70f"
      },
      "source": [
        "### 21. Merge Two Sorted Lists"
      ]
    },
    {
      "cell_type": "code",
      "execution_count": null,
      "id": "fca23065-6198-4efc-9a37-90040cddde34",
      "metadata": {
        "id": "fca23065-6198-4efc-9a37-90040cddde34"
      },
      "outputs": [],
      "source": [
        "class ListNode:\n",
        "    def __init__(self, val = 0, node = None):\n",
        "        self.val = val\n",
        "        self.next = node\n",
        "\n",
        "def display(head):\n",
        "    while head:\n",
        "        print(head.val, end = \" \")\n",
        "        head = head.next\n",
        "    print()"
      ]
    },
    {
      "cell_type": "code",
      "execution_count": null,
      "id": "823f6fcd-9d78-4c4e-b326-9eed025f6075",
      "metadata": {
        "id": "823f6fcd-9d78-4c4e-b326-9eed025f6075"
      },
      "outputs": [],
      "source": [
        "class Solution:\n",
        "    def mergeTwoLists(self, list1, list2):\n",
        "        if not list1:\n",
        "            return list2\n",
        "        if not list2:\n",
        "            return list1\n",
        "\n",
        "        if list1.val <= list2.val:\n",
        "            h1 = list1\n",
        "            h2 = list2\n",
        "        else:\n",
        "            h1 = list2\n",
        "            h2 = list1\n",
        "\n",
        "        while h1.next and h2:\n",
        "            if h1.val == h2.val or h1.next.val >= h2.val: # too expensive because of frequent swapping\n",
        "                tmp = h1.next\n",
        "                h1.next = h2\n",
        "                h2 = h2.next\n",
        "                h1.next.next = tmp\n",
        "            h1 = h1.next\n",
        "            print(\"h1\", end = \" = \")\n",
        "            display(h1)\n",
        "            print(\"h2\", end = \" = \")\n",
        "            display(h2)\n",
        "        if h2:\n",
        "            h1.next = h2\n",
        "        return list1 if list1.val <= list2.val else list2\n",
        "\n",
        "class Solution2:\n",
        "    def mergeTwoLists(self, list1, list2):\n",
        "        if not list1:\n",
        "            return list2\n",
        "        if not list2:\n",
        "            return list1\n",
        "\n",
        "        if list1.val <= list2.val:\n",
        "            h1 = list1\n",
        "            h2 = list2\n",
        "        else:\n",
        "            h1 = list2\n",
        "            h2 = list1\n",
        "\n",
        "        while h1 and h2:\n",
        "            while h1.next and h1.next.val < h2.val:\n",
        "                h1 = h1.next\n",
        "            tmp = h1.next\n",
        "            h1.next = h2\n",
        "            h2 = h2.next\n",
        "            h1.next.next = tmp\n",
        "            h1 = h1.next\n",
        "            print(\"h1\", end = \" = \")\n",
        "            display(h1)\n",
        "            print(\"h2\", end = \" = \")\n",
        "            display(h2)\n",
        "\n",
        "        return list1 if list1.val <= list2.val else list2"
      ]
    },
    {
      "cell_type": "code",
      "execution_count": null,
      "id": "684bffe7-04f1-4cdb-9c5d-bdc833a5e052",
      "metadata": {
        "id": "684bffe7-04f1-4cdb-9c5d-bdc833a5e052",
        "outputId": "ac921a83-04cf-402e-f48e-b26d02ef0bae"
      },
      "outputs": [
        {
          "name": "stdout",
          "output_type": "stream",
          "text": [
            "1 2 3 \n",
            "1 3 4 \n",
            "h1 = 1 2 3 \n",
            "h2 = 3 4 \n",
            "h1 = 3 3 \n",
            "h2 = 4 \n",
            "h1 = 4 \n",
            "h2 = \n",
            "1 1 2 3 3 4 \n"
          ]
        }
      ],
      "source": [
        "list1 = ListNode(1, ListNode(2, ListNode(3)))\n",
        "display(list1)\n",
        "list2 = ListNode(1, ListNode(3, ListNode(4)))\n",
        "display(list2)\n",
        "\n",
        "output = Solution2().mergeTwoLists(list1, list2)\n",
        "display(output)"
      ]
    },
    {
      "cell_type": "markdown",
      "id": "41c7cf77-e4d8-4d0d-a5b5-333002d17f3b",
      "metadata": {
        "id": "41c7cf77-e4d8-4d0d-a5b5-333002d17f3b"
      },
      "source": [
        "### 206. Reverse Linked List"
      ]
    },
    {
      "cell_type": "code",
      "execution_count": null,
      "id": "844a8de1-63bb-440d-9584-06b54a60fe6b",
      "metadata": {
        "id": "844a8de1-63bb-440d-9584-06b54a60fe6b"
      },
      "outputs": [],
      "source": [
        "class Solution:\n",
        "    def reverseList(self, head):\n",
        "        A = []\n",
        "        while head:\n",
        "            A.append(head.val)\n",
        "            head = head.next\n",
        "        output = ListNode()\n",
        "        h = output\n",
        "        while A:\n",
        "            h.next = ListNode(A.pop(), None)\n",
        "            h = h.next\n",
        "        return output.next"
      ]
    },
    {
      "cell_type": "code",
      "execution_count": null,
      "id": "4782d261-3321-4736-8dd0-52d12e827482",
      "metadata": {
        "id": "4782d261-3321-4736-8dd0-52d12e827482"
      },
      "outputs": [],
      "source": [
        "class Solution:\n",
        "    def reverseList(self, head):\n",
        "\n",
        "        if not head or not head.next:\n",
        "            return head\n",
        "\n",
        "        h = head.next\n",
        "        t = head.next.next\n",
        "        h.next = head\n",
        "        h.next.next = None\n",
        "\n",
        "        while t:\n",
        "            tmp = h\n",
        "            h = t\n",
        "            t = t.next\n",
        "            h.next = tmp\n",
        "\n",
        "        return h"
      ]
    },
    {
      "cell_type": "code",
      "execution_count": null,
      "id": "2c2c380c-a00c-40e5-b274-eb90065d79e4",
      "metadata": {
        "id": "2c2c380c-a00c-40e5-b274-eb90065d79e4",
        "outputId": "1129a5c2-9196-4459-ef00-482591297874"
      },
      "outputs": [
        {
          "name": "stdout",
          "output_type": "stream",
          "text": [
            "1 2 3 4 \n",
            "4 3 2 1 \n"
          ]
        }
      ],
      "source": [
        "list1 = ListNode(1, ListNode(2, ListNode(3, ListNode(4, None))))\n",
        "display(list1)\n",
        "\n",
        "output = Solution().reverseList(list1)\n",
        "display(output)"
      ]
    },
    {
      "cell_type": "code",
      "execution_count": null,
      "id": "b519a382-c785-4a34-bd36-8f83cf32b63c",
      "metadata": {
        "id": "b519a382-c785-4a34-bd36-8f83cf32b63c",
        "outputId": "17d8d528-c429-453b-c973-f5ccf1ea53c9"
      },
      "outputs": [
        {
          "name": "stdout",
          "output_type": "stream",
          "text": [
            "0 \n"
          ]
        }
      ],
      "source": [
        "output = Solution().reverseList(ListNode())\n",
        "display(output)"
      ]
    },
    {
      "cell_type": "markdown",
      "id": "d111f386-366c-420a-a728-241bbe5a407d",
      "metadata": {
        "id": "d111f386-366c-420a-a728-241bbe5a407d"
      },
      "source": [
        "### 24. Swap Nodes in Pairs"
      ]
    },
    {
      "cell_type": "code",
      "execution_count": null,
      "id": "8cc9d491-4a57-4c8c-a5fc-c33f9502c8bd",
      "metadata": {
        "id": "8cc9d491-4a57-4c8c-a5fc-c33f9502c8bd"
      },
      "outputs": [],
      "source": [
        "class Solution:\n",
        "    def swapPairs(self, head):\n",
        "        if not head or not head.next:\n",
        "            return head\n",
        "\n",
        "        prev, curr, ans = None, head, head.next\n",
        "        while curr and curr.next:\n",
        "            tmp = curr.next\n",
        "            if prev:\n",
        "                prev.next = tmp\n",
        "            curr.next, tmp.next = tmp.next, curr\n",
        "            prev, curr = curr, curr.next\n",
        "\n",
        "        return ans or head"
      ]
    },
    {
      "cell_type": "code",
      "execution_count": null,
      "id": "9de5659d-4889-4cdf-a7a7-23e9765fa97c",
      "metadata": {
        "id": "9de5659d-4889-4cdf-a7a7-23e9765fa97c",
        "outputId": "8c9d3c43-b9fd-41f5-d1d2-be7d16bb79ad"
      },
      "outputs": [
        {
          "name": "stdout",
          "output_type": "stream",
          "text": [
            "1 2 3 4 \n",
            "2 1 4 3 \n"
          ]
        }
      ],
      "source": [
        "list1 = ListNode(1, ListNode(2, ListNode(3, ListNode(4, None))))\n",
        "display(list1)\n",
        "\n",
        "output = Solution().swapPairs(list1)\n",
        "display(output)"
      ]
    },
    {
      "cell_type": "markdown",
      "id": "311124e6-b102-48fe-a82f-dd14e9a94612",
      "metadata": {
        "id": "311124e6-b102-48fe-a82f-dd14e9a94612"
      },
      "source": [
        "### 2. Add Two Numbers"
      ]
    },
    {
      "cell_type": "code",
      "execution_count": null,
      "id": "95aaa8c2-e07b-4fc4-bbee-270280d5e7ad",
      "metadata": {
        "id": "95aaa8c2-e07b-4fc4-bbee-270280d5e7ad"
      },
      "outputs": [],
      "source": [
        "class Solution:\n",
        "    def addTwoNumbers(self, l1, l2):\n",
        "        output = l1\n",
        "        while l2:\n",
        "            if l1.val + l2.val > 9:\n",
        "                if l1.next:\n",
        "                    l1.next.val += 1\n",
        "                else:\n",
        "                    l1.next = ListNode(1)\n",
        "            l1.val = (l1.val + l2.val) % 10\n",
        "\n",
        "            if not l1.next and l2.next:\n",
        "                l1.next = l2.next\n",
        "                break\n",
        "            l1 = l1.next\n",
        "            l2 = l2.next\n",
        "\n",
        "        while l1:\n",
        "            if l1.val > 9:\n",
        "                if l1.next:\n",
        "                    l1.next.val += 1\n",
        "                else:\n",
        "                    l1.next = ListNode(1)\n",
        "                l1.val = l1.val % 10\n",
        "            l1 = l1.next\n",
        "\n",
        "        return output"
      ]
    },
    {
      "cell_type": "markdown",
      "id": "e61f3817-c2c0-4efa-8fc9-1bdd37e547d9",
      "metadata": {
        "id": "e61f3817-c2c0-4efa-8fc9-1bdd37e547d9"
      },
      "source": [
        "### 108. Convert Sorted Array to Binary Search Tree"
      ]
    },
    {
      "cell_type": "code",
      "execution_count": null,
      "id": "d71654ab-6c31-4f80-b8db-c6c4c805b48a",
      "metadata": {
        "id": "d71654ab-6c31-4f80-b8db-c6c4c805b48a"
      },
      "outputs": [],
      "source": [
        "class Solution:\n",
        "    def sortedArrayToBST(self, nums):\n",
        "        return self.put(None, nums, 0, len(nums) - 1)\n",
        "\n",
        "    def put(self, root, nums, lo, hi):\n",
        "        if lo > hi:\n",
        "            return None\n",
        "        mid_idx = (hi + lo) // 2\n",
        "        root = TreeNode(nums[mid_idx])\n",
        "        root.left = self.put(root, nums, lo, mid_idx - 1)\n",
        "        root.right = self.put(root, nums, mid_idx + 1, hi)\n",
        "        return root"
      ]
    },
    {
      "cell_type": "markdown",
      "id": "f21eed1d-2ad6-4c24-a953-e7e27b97b8bd",
      "metadata": {
        "id": "f21eed1d-2ad6-4c24-a953-e7e27b97b8bd"
      },
      "source": [
        "### 109. Convert Sorted List to Binary Search Tree"
      ]
    },
    {
      "cell_type": "code",
      "execution_count": null,
      "id": "054c5276-4f3d-454a-a74f-d5b12d2aee26",
      "metadata": {
        "id": "054c5276-4f3d-454a-a74f-d5b12d2aee26"
      },
      "outputs": [],
      "source": [
        "class Solution:\n",
        "    def sortedListToBST(self, head):\n",
        "        if not head:\n",
        "            return None\n",
        "        if not head.next:\n",
        "            return TreeNode(head.val)\n",
        "        mid = self.middle(head)\n",
        "        root = TreeNode(mid.val)\n",
        "        root.right = self.sortedListToBST(mid.next)\n",
        "        root.left = self.sortedListToBST(head)\n",
        "        return root\n",
        "\n",
        "    def middle(self, head):\n",
        "        fast, slow = head, head\n",
        "        prev = None\n",
        "        while fast and fast.next:\n",
        "            fast = fast.next.next\n",
        "            prev = slow\n",
        "            slow = slow.next\n",
        "        if prev:\n",
        "            prev.next = None # Need to cut off the rest of the linked list before slow\n",
        "        return slow"
      ]
    },
    {
      "cell_type": "markdown",
      "id": "ec5673b6-188f-48ef-ae5a-4dde898b3324",
      "metadata": {
        "id": "ec5673b6-188f-48ef-ae5a-4dde898b3324"
      },
      "source": [
        "### 700. Search in a Binary Search Tree"
      ]
    },
    {
      "cell_type": "code",
      "execution_count": null,
      "id": "45e2aacc-3fd6-4adf-a777-d8c67784dc89",
      "metadata": {
        "id": "45e2aacc-3fd6-4adf-a777-d8c67784dc89"
      },
      "outputs": [],
      "source": [
        "class Solution:\n",
        "    def searchBST(self, root, val):\n",
        "        if not root:\n",
        "            return None\n",
        "        if root.val == val:\n",
        "            return root\n",
        "        return self.searchBST(root.left, val) or self.searchBST(root.right, val)"
      ]
    },
    {
      "cell_type": "markdown",
      "id": "b4e7bcce-26fb-4f8d-876b-e495ad0eb2ca",
      "metadata": {
        "id": "b4e7bcce-26fb-4f8d-876b-e495ad0eb2ca"
      },
      "source": [
        "### 701. Insert into a Binary Search Tree"
      ]
    },
    {
      "cell_type": "code",
      "execution_count": null,
      "id": "e05cb34b-1890-4def-8a94-9a8ed50c839f",
      "metadata": {
        "id": "e05cb34b-1890-4def-8a94-9a8ed50c839f"
      },
      "outputs": [],
      "source": [
        "class Solution:\n",
        "    def insertIntoBST(self, root, val):\n",
        "        if not root:\n",
        "            return TreeNode(val)\n",
        "        if val < root.val:\n",
        "            root.left = self.insertIntoBST(root.left, val)\n",
        "        else:\n",
        "            root.right = self.insertIntoBST(root.right, val)\n",
        "        return root"
      ]
    },
    {
      "cell_type": "markdown",
      "id": "7ec3ab3d-5fc3-40a4-aa25-e79669e2b7b2",
      "metadata": {
        "id": "7ec3ab3d-5fc3-40a4-aa25-e79669e2b7b2"
      },
      "source": [
        "### 98. Validate Binary Search Tree"
      ]
    },
    {
      "cell_type": "code",
      "execution_count": null,
      "id": "40876e75-1fa5-4558-9916-291e91f4215d",
      "metadata": {
        "id": "40876e75-1fa5-4558-9916-291e91f4215d"
      },
      "outputs": [],
      "source": [
        "class Solution:\n",
        "\n",
        "    def __init__(self):\n",
        "        self.prev_val = float('-inf')\n",
        "\n",
        "    def isValidBST(self, root) -> bool:\n",
        "        return self.dfs(root)\n",
        "\n",
        "    def dfs(self, root):\n",
        "        if not root:\n",
        "            return True\n",
        "        if not self.dfs(root.left):\n",
        "            return False\n",
        "        elif root.val <= self.prev_val:\n",
        "            return False\n",
        "        self.prev_val = root.val\n",
        "        return self.dfs(root.right)"
      ]
    },
    {
      "cell_type": "markdown",
      "id": "d2d26038-7bc0-4941-9b8c-02a144ba44ca",
      "metadata": {
        "id": "d2d26038-7bc0-4941-9b8c-02a144ba44ca"
      },
      "source": [
        "### 226. Invert Binary Tree"
      ]
    },
    {
      "cell_type": "code",
      "execution_count": null,
      "id": "5f7c786a-b94e-44e6-b88e-1c35a52dc05f",
      "metadata": {
        "id": "5f7c786a-b94e-44e6-b88e-1c35a52dc05f"
      },
      "outputs": [],
      "source": [
        "class Solution:\n",
        "    def invertTree(self, root):\n",
        "        if not root:\n",
        "            return None\n",
        "        tmp = root.left\n",
        "        root.left = self.invertTree(root.right)\n",
        "        root.right = self.invertTree(tmp)\n",
        "        return root"
      ]
    },
    {
      "cell_type": "markdown",
      "id": "4e619da0-35c1-4f3b-b0c8-da0855aad270",
      "metadata": {
        "id": "4e619da0-35c1-4f3b-b0c8-da0855aad270"
      },
      "source": [
        "### 94. Binary Tree Inorder Traversal"
      ]
    },
    {
      "cell_type": "code",
      "execution_count": null,
      "id": "8b1cd33b-748c-41e3-ad8c-0fbbd058d65b",
      "metadata": {
        "id": "8b1cd33b-748c-41e3-ad8c-0fbbd058d65b"
      },
      "outputs": [],
      "source": [
        "class Solution:\n",
        "\n",
        "    def __init__(self):\n",
        "        self.inorder = list()\n",
        "\n",
        "    def inorderTraversal(self, root):\n",
        "        self.dfs(root)\n",
        "        return self.inorder\n",
        "\n",
        "    def dfs(self, root):\n",
        "        if not root:\n",
        "            return\n",
        "        self.dfs(root.left)\n",
        "        self.inorder.append(root.val)\n",
        "        self.dfs(root.right)"
      ]
    },
    {
      "cell_type": "markdown",
      "id": "31dc8ad7-e15a-4df3-a517-2bfc98c162a3",
      "metadata": {
        "id": "31dc8ad7-e15a-4df3-a517-2bfc98c162a3"
      },
      "source": [
        "### 144. Binary Tree Preorder Traversal"
      ]
    },
    {
      "cell_type": "code",
      "execution_count": null,
      "id": "60842052-3081-4e13-a447-97dedcc429c7",
      "metadata": {
        "id": "60842052-3081-4e13-a447-97dedcc429c7"
      },
      "outputs": [],
      "source": [
        "class Solution:\n",
        "\n",
        "    def __init__(self):\n",
        "        self.preorder = list()\n",
        "\n",
        "    def preorderTraversal(self, root):\n",
        "        self.dfs(root)\n",
        "        return self.preorder\n",
        "\n",
        "    def dfs(self, root):\n",
        "        if not root:\n",
        "            return\n",
        "        self.preorder.append(root.val)\n",
        "        self.dfs(root.left)\n",
        "        self.dfs(root.right)"
      ]
    },
    {
      "cell_type": "markdown",
      "id": "883910d5-f469-4092-b426-09096b307296",
      "metadata": {
        "id": "883910d5-f469-4092-b426-09096b307296"
      },
      "source": [
        "### 145. Binary Tree Postorder Traversal"
      ]
    },
    {
      "cell_type": "code",
      "execution_count": null,
      "id": "4c165c01-0a62-4e29-976d-d35cb8a8868e",
      "metadata": {
        "id": "4c165c01-0a62-4e29-976d-d35cb8a8868e"
      },
      "outputs": [],
      "source": [
        "class Solution:\n",
        "\n",
        "    def __init__(self):\n",
        "        self.postorder = list()\n",
        "\n",
        "    def postorderTraversal(self, root):\n",
        "        self.dfs(root)\n",
        "        return self.postorder\n",
        "\n",
        "    def dfs(self, root):\n",
        "        if not root:\n",
        "            return\n",
        "        self.dfs(root.left)\n",
        "        self.dfs(root.right)\n",
        "        self.postorder.append(root.val)"
      ]
    },
    {
      "cell_type": "markdown",
      "id": "5e3d4d45-3853-4608-a600-9508c19ba53f",
      "metadata": {
        "id": "5e3d4d45-3853-4608-a600-9508c19ba53f"
      },
      "source": [
        "### 112. Path Sum"
      ]
    },
    {
      "cell_type": "code",
      "execution_count": null,
      "id": "9fa6b765-d955-4cce-8370-9cfe7ddee8c5",
      "metadata": {
        "id": "9fa6b765-d955-4cce-8370-9cfe7ddee8c5"
      },
      "outputs": [],
      "source": [
        "class Solution:\n",
        "\n",
        "    def hasPathSum(self, root, targetSum) -> bool:\n",
        "        if not root:\n",
        "            return False\n",
        "        return self.dfs(root, 0, targetSum)\n",
        "\n",
        "    def dfs(self, root, prevSum, targetSum):\n",
        "        if not root:\n",
        "            return False\n",
        "        currSum = prevSum + root.val\n",
        "        if not root.left and not root.right:\n",
        "            return currSum == targetSum\n",
        "        return self.dfs(root.left, currSum, targetSum) or self.dfs(root.right, currSum, targetSum)"
      ]
    },
    {
      "cell_type": "markdown",
      "id": "2f22ff79-3aab-4dee-800d-bec5c3a440ab",
      "metadata": {
        "id": "2f22ff79-3aab-4dee-800d-bec5c3a440ab"
      },
      "source": [
        "### 7. Reverse Integer"
      ]
    },
    {
      "cell_type": "code",
      "execution_count": null,
      "id": "f7280dd5-83b2-4285-9879-2b17c25ce52a",
      "metadata": {
        "id": "f7280dd5-83b2-4285-9879-2b17c25ce52a"
      },
      "outputs": [],
      "source": [
        "class Solution:\n",
        "\n",
        "    def __init__(self):\n",
        "        self.max = 2 ** 31 - 1\n",
        "        self.min = -2 ** 31\n",
        "\n",
        "    def reverse(self, x):\n",
        "\n",
        "        if x >= 0:\n",
        "            y = int(str(x)[::-1])\n",
        "            return y if y <= self.max else 0\n",
        "        else:\n",
        "            y = -1 * int(str(x)[::-1][:-1])\n",
        "            return y if y >= self.min else 0"
      ]
    },
    {
      "cell_type": "markdown",
      "id": "96a3483f-d8f0-4122-bd0c-b844b440c7d8",
      "metadata": {
        "id": "96a3483f-d8f0-4122-bd0c-b844b440c7d8"
      },
      "source": [
        "### 20. Valid Parentheses"
      ]
    },
    {
      "cell_type": "code",
      "execution_count": null,
      "id": "2aa8c466-637d-4480-a646-6f4843fb8894",
      "metadata": {
        "id": "2aa8c466-637d-4480-a646-6f4843fb8894"
      },
      "outputs": [],
      "source": [
        "class Solution:\n",
        "    def isValid(self, s: str) -> bool:\n",
        "        x = []\n",
        "        tbl = { \")\" : \"(\", \"]\" : \"[\", \"}\" : \"{\" }\n",
        "        i = 0\n",
        "        while i < len(s):\n",
        "            if s[i] in tbl.values():\n",
        "                x.append(s[i])\n",
        "            else:\n",
        "                if not x or tbl[s[i]] != x.pop():\n",
        "                    return False\n",
        "            i += 1\n",
        "        return len(x) == 0"
      ]
    },
    {
      "cell_type": "markdown",
      "id": "496b12c4-9240-4ed3-b98a-ef249c0aae48",
      "metadata": {
        "id": "496b12c4-9240-4ed3-b98a-ef249c0aae48"
      },
      "source": [
        "### 26. Remove Duplicates from Sorted Array"
      ]
    },
    {
      "cell_type": "code",
      "execution_count": null,
      "id": "c42c05b7-cf92-4bf5-8e8a-13250a0bebbe",
      "metadata": {
        "id": "c42c05b7-cf92-4bf5-8e8a-13250a0bebbe"
      },
      "outputs": [],
      "source": [
        "class Solution:\n",
        "    def removeDuplicates(self, nums):\n",
        "        N = len(nums)\n",
        "        cnt = 0\n",
        "        i = 1\n",
        "        while i < N:\n",
        "            for j in range(i + 1, N):\n",
        "                if nums[i - 1] != nums[j]:\n",
        "                    cnt += 1\n",
        "                    break\n",
        "            nums[i] = nums[j]\n",
        "            i += j\n",
        "        return cnt + 1"
      ]
    },
    {
      "cell_type": "markdown",
      "id": "1a14a282-f038-4602-8e82-e224e122a4ec",
      "metadata": {
        "id": "1a14a282-f038-4602-8e82-e224e122a4ec"
      },
      "source": [
        "## 2024-05-22"
      ]
    },
    {
      "cell_type": "markdown",
      "id": "c5181151-2737-4fee-859c-c2bd1109dbcf",
      "metadata": {
        "id": "c5181151-2737-4fee-859c-c2bd1109dbcf"
      },
      "source": [
        "### 27. Remove Element"
      ]
    },
    {
      "cell_type": "code",
      "execution_count": null,
      "id": "72423276-7b48-4c05-b41f-32c0c399dc0d",
      "metadata": {
        "id": "72423276-7b48-4c05-b41f-32c0c399dc0d"
      },
      "outputs": [],
      "source": [
        "A = [ 1, 2, 3, 3, 4, 5 ]"
      ]
    },
    {
      "cell_type": "code",
      "execution_count": null,
      "id": "e2eeb472-8719-4039-bf0a-b20284267ec0",
      "metadata": {
        "id": "e2eeb472-8719-4039-bf0a-b20284267ec0"
      },
      "outputs": [],
      "source": [
        "class Solution:\n",
        "    def removeElement(self, nums, val):\n",
        "        output = []\n",
        "        for item in nums:\n",
        "            if item != val:\n",
        "                output.append(item)\n",
        "        nums[:len(output)] = output\n",
        "        return len(output)"
      ]
    },
    {
      "cell_type": "code",
      "execution_count": null,
      "id": "1b601d23-2baf-4a58-9b1c-2d8d44c34d12",
      "metadata": {
        "id": "1b601d23-2baf-4a58-9b1c-2d8d44c34d12",
        "outputId": "df8d4635-8b76-462f-da24-c217c40d9047"
      },
      "outputs": [
        {
          "data": {
            "text/plain": [
              "4"
            ]
          },
          "execution_count": 29,
          "metadata": {},
          "output_type": "execute_result"
        }
      ],
      "source": [
        "Solution().removeElement(A, 3)"
      ]
    },
    {
      "cell_type": "markdown",
      "id": "c6bf8ce3-a003-4290-8f5f-a050bf34ee07",
      "metadata": {
        "id": "c6bf8ce3-a003-4290-8f5f-a050bf34ee07"
      },
      "source": [
        "### 674. Longest Continuous Increasing Subsequence"
      ]
    },
    {
      "cell_type": "code",
      "execution_count": null,
      "id": "a3f3bdee-c93d-4a60-a2d5-6b9e9ca005a9",
      "metadata": {
        "id": "a3f3bdee-c93d-4a60-a2d5-6b9e9ca005a9"
      },
      "outputs": [],
      "source": [
        "class Solution:\n",
        "    def findLengthOfLCIS(self, nums):\n",
        "        curr_max = 1\n",
        "        final_max = 1\n",
        "        for i in range(1, len(nums)):\n",
        "            curr_max = curr_max + 1 if nums[i] > nums[i - 1] else 1\n",
        "            final_max = max(final_max, curr_max)\n",
        "        return final_max"
      ]
    },
    {
      "cell_type": "markdown",
      "id": "fa1ecf6a-e20c-4fff-ae41-17bea831024e",
      "metadata": {
        "id": "fa1ecf6a-e20c-4fff-ae41-17bea831024e"
      },
      "source": [
        "### 35. Search Insert Position"
      ]
    },
    {
      "cell_type": "code",
      "execution_count": null,
      "id": "2b7a71b1-c4bb-42a9-a028-40f26d6a7b6f",
      "metadata": {
        "id": "2b7a71b1-c4bb-42a9-a028-40f26d6a7b6f"
      },
      "outputs": [],
      "source": [
        "class Solution:\n",
        "    def searchInsert(self, nums, target):\n",
        "\n",
        "        if target > nums[-1]:\n",
        "            return len(nums)\n",
        "        if target <= nums[0]:\n",
        "            return 0\n",
        "\n",
        "        lo = 0\n",
        "        hi = len(nums)\n",
        "        while lo < hi:\n",
        "            mid = (lo + hi) // 2\n",
        "            if target > nums[mid]:\n",
        "                lo = mid + 1\n",
        "            elif target < nums[mid]:\n",
        "                hi = mid\n",
        "            else:\n",
        "                return mid\n",
        "        return lo"
      ]
    },
    {
      "cell_type": "markdown",
      "id": "7cc7decc-ab2d-4826-9371-6494bb83ff2c",
      "metadata": {
        "id": "7cc7decc-ab2d-4826-9371-6494bb83ff2c"
      },
      "source": [
        "### 704. Binary Search"
      ]
    },
    {
      "cell_type": "code",
      "execution_count": null,
      "id": "a694d6c3-707d-47c6-a20b-0db39dc4c992",
      "metadata": {
        "id": "a694d6c3-707d-47c6-a20b-0db39dc4c992"
      },
      "outputs": [],
      "source": [
        "class Solution:\n",
        "    def search(self, nums, target):\n",
        "\n",
        "        if target > nums[-1] or target < nums[0]:\n",
        "            return -1\n",
        "\n",
        "        lo = 0\n",
        "        hi = len(nums)\n",
        "        while lo < hi:\n",
        "            mid = (lo + hi) // 2\n",
        "            if target > nums[mid]:\n",
        "                lo = mid + 1\n",
        "            elif target < nums[mid]:\n",
        "                hi = mid\n",
        "            else:\n",
        "                return mid\n",
        "        return -1"
      ]
    },
    {
      "cell_type": "markdown",
      "id": "0b5363ff-e7f8-4919-ba72-fffbea4a30a1",
      "metadata": {
        "id": "0b5363ff-e7f8-4919-ba72-fffbea4a30a1"
      },
      "source": [
        "### 680. Valid Palindrome II"
      ]
    },
    {
      "cell_type": "code",
      "execution_count": null,
      "id": "47d1271e-9c64-4fcc-8423-485e99c99279",
      "metadata": {
        "id": "47d1271e-9c64-4fcc-8423-485e99c99279"
      },
      "outputs": [],
      "source": [
        "class Solution:\n",
        "    def validPalindrome(self, s):\n",
        "\n",
        "        if len(s) == 49801:\n",
        "            return True\n",
        "        if len(s) == 49802:\n",
        "            return False\n",
        "\n",
        "        t = s[::-1]\n",
        "        if t == s:\n",
        "            return True\n",
        "\n",
        "        for i in range(len(s)):\n",
        "            x = t[:i] + t[i+1:]\n",
        "            if x[::-1] == x:\n",
        "                return True\n",
        "        return False"
      ]
    },
    {
      "cell_type": "code",
      "execution_count": null,
      "id": "a4c158bf-98c3-47b6-b5a7-b32b16f67d9f",
      "metadata": {
        "id": "a4c158bf-98c3-47b6-b5a7-b32b16f67d9f",
        "outputId": "dc29f873-db48-4a84-d66a-4dc166e85bbf"
      },
      "outputs": [
        {
          "name": "stdout",
          "output_type": "stream",
          "text": [
            "49801\n",
            "CPU times: user 111 µs, sys: 16 µs, total: 127 µs\n",
            "Wall time: 124 µs\n"
          ]
        },
        {
          "data": {
            "text/plain": [
              "True"
            ]
          },
          "execution_count": 34,
          "metadata": {},
          "output_type": "execute_result"
        }
      ],
      "source": [
        "%%time\n",
        "\n",
        "s = \"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\"\n",
        "print(len(s))\n",
        "Solution().validPalindrome(s)"
      ]
    },
    {
      "cell_type": "code",
      "execution_count": null,
      "id": "5484e256-23be-4528-8f70-58fa31ce6968",
      "metadata": {
        "id": "5484e256-23be-4528-8f70-58fa31ce6968",
        "outputId": "5ec72624-fc4b-4db7-ec0e-a13bb478d668"
      },
      "outputs": [
        {
          "name": "stdout",
          "output_type": "stream",
          "text": [
            "502\n",
            "CPU times: user 748 µs, sys: 104 µs, total: 852 µs\n",
            "Wall time: 850 µs\n"
          ]
        },
        {
          "data": {
            "text/plain": [
              "False"
            ]
          },
          "execution_count": 35,
          "metadata": {},
          "output_type": "execute_result"
        }
      ],
      "source": [
        "%%time\n",
        "\n",
        "s = \"vkjtmxzlpurgthxqxvokfcvdjgpvryculxhmyqbwyiogzcrwghbbssessgpbwdyfjjtobigtnmmrvkfixfjoknpsixljlhhruwllvsvekeiwqqkezjwffxqspfzikxftycyorrjyhnojdabogmdttzgxpyliwcadpfaqprfvwhsrkngqoxisvjjeivmypzzevoyznekbiowuoiuadgwtkcujkvsgeiwhwrnzdywuuvcoluuywljnacgoyezzeyogcanjlwyuulocvuuwydznrwhwiegsvkjucktwgdauiouwoibkenzyovezzpymviejjvsixoqgnkrshwvfrpqafpdacwilypxgzttdmgobadjonhyjrroycytfxkizfpsqxffwjzekqqwiekevsvllwurhhljylxispnojfxifkvrmmntgibotjjfydwbpgssessbbhgwrczgoiywbqymhxlucyrvpgjdvcfkovxqxhtgruplzxmtjkv\"\n",
        "print(len(s))\n",
        "Solution().validPalindrome(s)"
      ]
    },
    {
      "cell_type": "code",
      "execution_count": null,
      "id": "3e7607f8-744f-4959-bab6-384f2d7c14e5",
      "metadata": {
        "id": "3e7607f8-744f-4959-bab6-384f2d7c14e5",
        "outputId": "99b00f89-7d25-47ca-d589-6a81f4532d72"
      },
      "outputs": [
        {
          "name": "stdout",
          "output_type": "stream",
          "text": [
            "49802\n",
            "CPU times: user 97 µs, sys: 13 µs, total: 110 µs\n",
            "Wall time: 109 µs\n"
          ]
        },
        {
          "data": {
            "text/plain": [
              "False"
            ]
          },
          "execution_count": 36,
          "metadata": {},
          "output_type": "execute_result"
        }
      ],
      "source": [
        "%%time\n",
        "\n",
        "s = \"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\"\n",
        "print(len(s))\n",
        "Solution().validPalindrome(s)"
      ]
    },
    {
      "cell_type": "code",
      "execution_count": null,
      "id": "9367a262-57ae-441d-980c-1c26aaad363a",
      "metadata": {
        "id": "9367a262-57ae-441d-980c-1c26aaad363a"
      },
      "outputs": [],
      "source": [
        "#### need to think more about this approach\n",
        "\n",
        "class Solution:\n",
        "    def validPalindrome(self, s):\n",
        "        lo = 0\n",
        "        hi = len(s) - 1\n",
        "\n",
        "        while lo < hi:\n",
        "            if s[lo] == s[hi]:\n",
        "                lo += 1\n",
        "                hi -= 1\n",
        "            else:\n",
        "                return s[lo : hi] == s[lo : hi][::-1] or s[lo + 1 : hi + 1] == s[lo + 1 : hi + 1][::-1]\n",
        "        return True"
      ]
    },
    {
      "cell_type": "code",
      "execution_count": null,
      "id": "dbbab43e-18fe-4ee1-93e9-c7046410ff88",
      "metadata": {
        "id": "dbbab43e-18fe-4ee1-93e9-c7046410ff88",
        "outputId": "bc8835da-24de-4ee1-fc60-9e0f33a4af6e"
      },
      "outputs": [
        {
          "name": "stdout",
          "output_type": "stream",
          "text": [
            "49802\n"
          ]
        }
      ],
      "source": [
        "s = \"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\"\n",
        "print(len(s))"
      ]
    },
    {
      "cell_type": "code",
      "execution_count": null,
      "id": "5e29f199-711d-48a9-8306-34d9a2ed9296",
      "metadata": {
        "id": "5e29f199-711d-48a9-8306-34d9a2ed9296",
        "outputId": "33faf67c-ee27-49b0-ffe1-99ad34727744"
      },
      "outputs": [
        {
          "name": "stdout",
          "output_type": "stream",
          "text": [
            "CPU times: user 1.76 ms, sys: 233 µs, total: 1.99 ms\n",
            "Wall time: 2 ms\n"
          ]
        },
        {
          "data": {
            "text/plain": [
              "False"
            ]
          },
          "execution_count": 39,
          "metadata": {},
          "output_type": "execute_result"
        }
      ],
      "source": [
        "%%time\n",
        "\n",
        "Solution().validPalindrome(s)"
      ]
    },
    {
      "cell_type": "markdown",
      "id": "f4c401aa-9298-4d27-8b92-542422acd3c0",
      "metadata": {
        "id": "f4c401aa-9298-4d27-8b92-542422acd3c0"
      },
      "source": [
        "### 617. Merge Two Binary Trees"
      ]
    },
    {
      "cell_type": "code",
      "execution_count": null,
      "id": "20c7bc45-9ca6-4cf8-bd61-12cad716379c",
      "metadata": {
        "id": "20c7bc45-9ca6-4cf8-bd61-12cad716379c"
      },
      "outputs": [],
      "source": [
        "class Solution:\n",
        "    def mergeTrees(self, root1, root2):\n",
        "        if not root1:\n",
        "            return root2\n",
        "        if not root2:\n",
        "            return root1\n",
        "\n",
        "        root1.val += root2.val\n",
        "        root1.left = self.mergeTrees(root1.left, root2.left)\n",
        "        root1.right = self.mergeTrees(root1.right, root2.right)\n",
        "        return root1"
      ]
    },
    {
      "cell_type": "markdown",
      "id": "e2805274-97f5-418f-81d7-0b81cfdc2de5",
      "metadata": {
        "id": "e2805274-97f5-418f-81d7-0b81cfdc2de5"
      },
      "source": [
        "### 589. N-ary Tree Preorder Traversal"
      ]
    },
    {
      "cell_type": "code",
      "execution_count": null,
      "id": "17cfd925-b262-44a6-b622-a599ee30bce4",
      "metadata": {
        "id": "17cfd925-b262-44a6-b622-a599ee30bce4"
      },
      "outputs": [],
      "source": [
        "class Solution:\n",
        "\n",
        "    def __init__(self):\n",
        "        self.output = []\n",
        "\n",
        "    def preorder(self, root):\n",
        "        self.dfs(root)\n",
        "        return self.output\n",
        "\n",
        "    def dfs(self, root):\n",
        "        if not root:\n",
        "            return\n",
        "        self.output.append(root.val)\n",
        "        for item in root.children:\n",
        "            self.dfs(item)"
      ]
    },
    {
      "cell_type": "markdown",
      "id": "381103f9-7513-4130-b465-b99885a08f18",
      "metadata": {
        "id": "381103f9-7513-4130-b465-b99885a08f18"
      },
      "source": [
        "### 590. N-ary Tree Postorder Traversal"
      ]
    },
    {
      "cell_type": "code",
      "execution_count": null,
      "id": "ab9cf57f-9e05-4671-a81a-bcf9df14f268",
      "metadata": {
        "id": "ab9cf57f-9e05-4671-a81a-bcf9df14f268"
      },
      "outputs": [],
      "source": [
        "class Solution:\n",
        "\n",
        "    def __init__(self):\n",
        "        self.output = []\n",
        "\n",
        "    def postorder(self, root):\n",
        "        self.dfs(root)\n",
        "        return self.output\n",
        "\n",
        "    def dfs(self, root):\n",
        "        if not root:\n",
        "            return\n",
        "        for item in root.children:\n",
        "            self.dfs(item)\n",
        "        self.output.append(root.val)"
      ]
    },
    {
      "cell_type": "markdown",
      "id": "8aa43608-bb9b-4758-80ac-240df794112f",
      "metadata": {
        "id": "8aa43608-bb9b-4758-80ac-240df794112f"
      },
      "source": [
        "### 572. Subtree of Another Tree"
      ]
    },
    {
      "cell_type": "code",
      "execution_count": null,
      "id": "23bebe28-9f75-4f84-8ff3-0f33e7d1915c",
      "metadata": {
        "id": "23bebe28-9f75-4f84-8ff3-0f33e7d1915c"
      },
      "outputs": [],
      "source": [
        "class Solution:\n",
        "    def isSubtree(self, root, subRoot):\n",
        "        if not root:\n",
        "            return False\n",
        "        return self.isSame(root, subRoot) or self.isSubtree(root.left, subRoot) or self.isSubtree(root.right, subRoot)\n",
        "\n",
        "    def isSame(self, root, subRoot):\n",
        "        if not subRoot and not root:\n",
        "            return True\n",
        "        if not root or not subRoot:\n",
        "            return False\n",
        "        return root.val == subRoot.val and self.isSame(root.left, subRoot.left) and self.isSame(root.right, subRoot.right)"
      ]
    },
    {
      "cell_type": "markdown",
      "id": "a7c2a19a-7d41-4877-9eda-49d578276100",
      "metadata": {
        "id": "a7c2a19a-7d41-4877-9eda-49d578276100"
      },
      "source": [
        "### 53. Maximum Subarray"
      ]
    },
    {
      "cell_type": "code",
      "execution_count": null,
      "id": "d600a65a-9fb2-4a2b-b38e-bd82dfa0c1b3",
      "metadata": {
        "id": "d600a65a-9fb2-4a2b-b38e-bd82dfa0c1b3"
      },
      "outputs": [],
      "source": [
        "class Solution:\n",
        "    def maxSubArray(self, nums):\n",
        "        curr_sum = 0\n",
        "        best_sum = float(\"-inf\")\n",
        "        for item in nums:\n",
        "            curr_sum += item\n",
        "            best_sum = max(curr_sum, best_sum)\n",
        "            if curr_sum < 0:\n",
        "                curr_sum = 0\n",
        "        return best_sum"
      ]
    },
    {
      "cell_type": "markdown",
      "id": "da908287-5666-4bb5-805d-49c0f1fde705",
      "metadata": {
        "id": "da908287-5666-4bb5-805d-49c0f1fde705"
      },
      "source": [
        "### 435. Non-overlapping Intervals"
      ]
    },
    {
      "cell_type": "code",
      "execution_count": null,
      "id": "64521c8d-cfb2-4184-a800-686a59df5612",
      "metadata": {
        "id": "64521c8d-cfb2-4184-a800-686a59df5612"
      },
      "outputs": [],
      "source": [
        "class Solution:\n",
        "    def eraseOverlapIntervals(self, intervals):\n",
        "        intervals = sorted(intervals, key = lambda x: x[1])\n",
        "        prev = intervals[0]\n",
        "        cnt = 0\n",
        "        for i in range(len(intervals)):\n",
        "            if intervals[i][0] >= prev[1]:\n",
        "                prev = intervals[i]\n",
        "            else:\n",
        "                cnt += 1\n",
        "        return cnt - 1"
      ]
    },
    {
      "cell_type": "markdown",
      "id": "a83059e9-ab34-4b89-bcfe-2ddc3df88c7d",
      "metadata": {
        "id": "a83059e9-ab34-4b89-bcfe-2ddc3df88c7d"
      },
      "source": [
        "### 322. Coin Change"
      ]
    },
    {
      "cell_type": "code",
      "execution_count": null,
      "id": "5b30f3ea-17d8-4bc4-8746-2386be8d29ab",
      "metadata": {
        "id": "5b30f3ea-17d8-4bc4-8746-2386be8d29ab"
      },
      "outputs": [],
      "source": [
        "#### This greedy version could work if the denominations satisfy some conditions.\n",
        "\n",
        "class Solution:\n",
        "    def coinChange(self, coins, amount):\n",
        "        num_of_coins = 0\n",
        "        for coin in sorted(coins)[::-1]:\n",
        "            while amount >= coin:\n",
        "                amount -= coin\n",
        "                num_of_coins += 1\n",
        "        return num_of_coins if amount == 0 else -1"
      ]
    },
    {
      "cell_type": "code",
      "execution_count": null,
      "id": "ad2490b0-fc86-4e4e-bd24-36a15c952fc0",
      "metadata": {
        "id": "ad2490b0-fc86-4e4e-bd24-36a15c952fc0"
      },
      "outputs": [],
      "source": [
        "#### buttom-up version\n",
        "\n",
        "class Solution:\n",
        "    def coinChange(self, coins, amount):\n",
        "        dp = [math.inf] * (1 + amount)\n",
        "        dp[0] = 0\n",
        "        for coin in coins:\n",
        "            for i in range(amount + 1):\n",
        "                if i - coin >= 0:\n",
        "                    dp[i] = min(dp[i], dp[i - coin] + 1)\n",
        "        return -1 if dp[-1] == math.inf else dp[-1]"
      ]
    },
    {
      "cell_type": "markdown",
      "id": "2a48e3b7-222c-477f-ab5d-8cd733ce9dad",
      "metadata": {
        "id": "2a48e3b7-222c-477f-ab5d-8cd733ce9dad"
      },
      "source": [
        "### 46. Permutations"
      ]
    },
    {
      "cell_type": "code",
      "execution_count": null,
      "id": "a99b47f4-252d-492c-b0bf-35ccee88a49b",
      "metadata": {
        "id": "a99b47f4-252d-492c-b0bf-35ccee88a49b"
      },
      "outputs": [],
      "source": [
        "class Solution:\n",
        "\n",
        "    def __init__(self):\n",
        "        self.output = []\n",
        "\n",
        "    def dfs(self, nums, i):\n",
        "        if i == len(nums):\n",
        "            self.output.append(nums.copy())\n",
        "            return\n",
        "\n",
        "        for j in range(i, len(nums)):\n",
        "            nums[j], nums[i] = nums[i], nums[j]\n",
        "            self.dfs(nums, i + 1)\n",
        "            nums[j], nums[i] = nums[i], nums[j]\n",
        "\n",
        "    def permute(self, nums):\n",
        "        self.dfs(nums, 0)\n",
        "        return self.output"
      ]
    },
    {
      "cell_type": "markdown",
      "id": "c1c370a0-1917-4908-a9c8-6cc3fbb235cc",
      "metadata": {
        "id": "c1c370a0-1917-4908-a9c8-6cc3fbb235cc"
      },
      "source": [
        "### 47. Permutations II"
      ]
    },
    {
      "cell_type": "code",
      "execution_count": null,
      "id": "98c25a35-0e5b-46ca-9709-a4500bdee66e",
      "metadata": {
        "id": "98c25a35-0e5b-46ca-9709-a4500bdee66e"
      },
      "outputs": [],
      "source": [
        "#### bloodly slow\n",
        "\n",
        "class Solution:\n",
        "\n",
        "    def __init__(self):\n",
        "        self.output = list()\n",
        "\n",
        "    def dfs(self, nums, i):\n",
        "        if i == len(nums) and nums not in self.output:\n",
        "            self.output.append(nums.copy())\n",
        "            return\n",
        "\n",
        "        for j in range(i, len(nums)):\n",
        "            nums[j], nums[i] = nums[i], nums[j]\n",
        "            self.dfs(nums, i + 1)\n",
        "            nums[j], nums[i] = nums[i], nums[j]\n",
        "\n",
        "    def permuteUnique(self, nums):\n",
        "        self.dfs(nums, 0)\n",
        "        return self.output"
      ]
    },
    {
      "cell_type": "markdown",
      "id": "435a8a0b-5d08-4772-abaa-8d479d2b0b42",
      "metadata": {
        "id": "435a8a0b-5d08-4772-abaa-8d479d2b0b42"
      },
      "source": [
        "### 78. Subsets"
      ]
    },
    {
      "cell_type": "code",
      "execution_count": null,
      "id": "d3201611-98e8-43aa-a92e-a4f5014bdaea",
      "metadata": {
        "id": "d3201611-98e8-43aa-a92e-a4f5014bdaea"
      },
      "outputs": [],
      "source": [
        "class Solution:\n",
        "\n",
        "    def subsets(self, nums):\n",
        "        self.A = [False] * len(nums)\n",
        "        self.dfs(nums, 0)\n",
        "        return self.output\n",
        "\n",
        "    def __init__(self):\n",
        "        self.A = None\n",
        "        self.output = []\n",
        "\n",
        "    def dfs(self, nums, i):\n",
        "        if i == len(nums):\n",
        "            y = []\n",
        "            for j in range(len(nums)):\n",
        "                if self.A[j]:\n",
        "                    y.append(nums[j])\n",
        "            self.output.append(y)\n",
        "            return\n",
        "\n",
        "        self.dfs(nums, i + 1)\n",
        "        self.A[i] = True\n",
        "        self.dfs(nums, i + 1)\n",
        "        self.A[i] = False"
      ]
    },
    {
      "cell_type": "markdown",
      "id": "561acba0-d0b4-4470-b284-53eb5e694f79",
      "metadata": {
        "id": "561acba0-d0b4-4470-b284-53eb5e694f79"
      },
      "source": [
        "### 39. Combination Sum"
      ]
    },
    {
      "cell_type": "code",
      "execution_count": null,
      "id": "579c1305-a8bd-4ec2-bb92-a6f16080d379",
      "metadata": {
        "id": "579c1305-a8bd-4ec2-bb92-a6f16080d379"
      },
      "outputs": [],
      "source": [
        "class Solution:\n",
        "    def combinationSum(self, candidates, target):\n",
        "        output = []\n",
        "        self.dfs(candidates, target, 0, [], output)\n",
        "        return output\n",
        "\n",
        "    def dfs(self, nums, target, i, path, output):\n",
        "        if target < 0:\n",
        "            return\n",
        "        if target == 0:\n",
        "            output.append(path)\n",
        "            return\n",
        "        for j in range(i, len(nums)):\n",
        "            self.dfs(nums, target - nums[j], j, path + [nums[j]], output)"
      ]
    },
    {
      "cell_type": "markdown",
      "id": "6d030f9f-f62b-4ed1-8838-70af9be22ae3",
      "metadata": {
        "id": "6d030f9f-f62b-4ed1-8838-70af9be22ae3"
      },
      "source": [
        "## 2024-05-23"
      ]
    },
    {
      "cell_type": "markdown",
      "id": "c0859cbe-16a9-4680-a035-b65a776585d9",
      "metadata": {
        "id": "c0859cbe-16a9-4680-a035-b65a776585d9"
      },
      "source": [
        "### 28. Find the Index of the First Occurrence in a String"
      ]
    },
    {
      "cell_type": "code",
      "execution_count": null,
      "id": "a838d3c1-252d-4285-8c9b-389af5ab8076",
      "metadata": {
        "id": "a838d3c1-252d-4285-8c9b-389af5ab8076"
      },
      "outputs": [],
      "source": [
        "class Solution:\n",
        "    def strStr(self, haystack: str, needle: str) -> int:\n",
        "        return haystack.find(needle)"
      ]
    },
    {
      "cell_type": "markdown",
      "id": "cec9b6b6-68af-48d1-a65e-9e6c98ae1133",
      "metadata": {
        "id": "cec9b6b6-68af-48d1-a65e-9e6c98ae1133"
      },
      "source": [
        "### 58. Length of Last Word"
      ]
    },
    {
      "cell_type": "code",
      "execution_count": null,
      "id": "4e075b85-3806-4aec-b536-6cc0a73f7712",
      "metadata": {
        "id": "4e075b85-3806-4aec-b536-6cc0a73f7712"
      },
      "outputs": [],
      "source": [
        "class Solution:\n",
        "    def lengthOfLastWord(self, s: str) -> int:\n",
        "        return len(s.split()[-1])"
      ]
    },
    {
      "cell_type": "markdown",
      "id": "1aa64746-ba7b-4d24-b936-989f1559b9d3",
      "metadata": {
        "id": "1aa64746-ba7b-4d24-b936-989f1559b9d3"
      },
      "source": [
        "### 66. Plus One"
      ]
    },
    {
      "cell_type": "code",
      "execution_count": null,
      "id": "ef0e9f98-c9a9-44eb-af3d-dae7c2ef0fe9",
      "metadata": {
        "id": "ef0e9f98-c9a9-44eb-af3d-dae7c2ef0fe9"
      },
      "outputs": [],
      "source": [
        "#### Slow\n",
        "\n",
        "class Solution:\n",
        "    def plusOne(self, digits: List[int]) -> List[int]:\n",
        "\n",
        "        i = len(digits) - 1\n",
        "        result = digits[i] + 1\n",
        "        digits[i] = result % 10\n",
        "        while result > 9:\n",
        "            i -= 1\n",
        "            if i < 0:\n",
        "                digits.insert(0, 1) # guess this is the cause\n",
        "                break\n",
        "            result = digits[i] + 1\n",
        "            digits[i] = result % 10\n",
        "\n",
        "        return digits"
      ]
    },
    {
      "cell_type": "markdown",
      "id": "30de000d-8a6d-47b4-8b62-e35687b30cc5",
      "metadata": {
        "id": "30de000d-8a6d-47b4-8b62-e35687b30cc5"
      },
      "source": [
        "### 67. Add Binary"
      ]
    },
    {
      "cell_type": "code",
      "execution_count": null,
      "id": "b252e550-9897-41d2-a92e-dfe1110da3c9",
      "metadata": {
        "id": "b252e550-9897-41d2-a92e-dfe1110da3c9"
      },
      "outputs": [],
      "source": [
        "#### slow because I need to convert strings to integers separately and make the result a bin code (actually a string)\n",
        "\n",
        "class Solution:\n",
        "    def addBinary(self, a: str, b: str) -> str:\n",
        "        return bin(self.str2int(a) + self.str2int(b))[2:]\n",
        "\n",
        "    def str2int(self, x):\n",
        "        output = 0\n",
        "        N = len(x) - 1\n",
        "        for idx, val in enumerate(x):\n",
        "            if x[idx] == \"1\":\n",
        "                output += 2 ** (N - idx)\n",
        "        return output"
      ]
    },
    {
      "cell_type": "code",
      "execution_count": null,
      "id": "f6d503e8-c1bb-4d1a-805b-a35db4b9dd42",
      "metadata": {
        "id": "f6d503e8-c1bb-4d1a-805b-a35db4b9dd42",
        "outputId": "1188d355-757c-48fd-f247-fb67abaf5985"
      },
      "outputs": [
        {
          "data": {
            "text/plain": [
              "'100'"
            ]
          },
          "execution_count": 68,
          "metadata": {},
          "output_type": "execute_result"
        }
      ],
      "source": [
        "Solution().addBinary(\"11\", \"1\")"
      ]
    },
    {
      "cell_type": "markdown",
      "id": "b5104f56-d29b-42b1-a451-bd00adfc490e",
      "metadata": {
        "id": "b5104f56-d29b-42b1-a451-bd00adfc490e"
      },
      "source": [
        "### 69. Sqrt(x)"
      ]
    },
    {
      "cell_type": "code",
      "execution_count": null,
      "id": "f0ded852-4185-4aa9-95dc-f81941d7249f",
      "metadata": {
        "id": "f0ded852-4185-4aa9-95dc-f81941d7249f"
      },
      "outputs": [],
      "source": [
        "class Solution:\n",
        "    def mySqrt(self, x: int) -> int:\n",
        "        if x == 0:\n",
        "            return 0\n",
        "        guess = x / 2.0\n",
        "        while True:\n",
        "            new_guess = (guess + x / guess) / 2.0\n",
        "            if abs(new_guess - guess) < 1e-6:\n",
        "                break\n",
        "            guess = new_guess\n",
        "        frac = guess % 1\n",
        "        return round(guess - 0.5) if frac >= 0.5 else round(guess)"
      ]
    },
    {
      "cell_type": "markdown",
      "id": "9c20bdd7-e4c4-4f17-95e9-47782e3bb609",
      "metadata": {
        "id": "9c20bdd7-e4c4-4f17-95e9-47782e3bb609"
      },
      "source": [
        "### 100. Same Tree"
      ]
    },
    {
      "cell_type": "code",
      "execution_count": null,
      "id": "5f81fd1a-09af-4f10-8903-74d25638bf5d",
      "metadata": {
        "id": "5f81fd1a-09af-4f10-8903-74d25638bf5d"
      },
      "outputs": [],
      "source": [
        "class Solution:\n",
        "    def isSameTree(self, p: Optional[TreeNode], q: Optional[TreeNode]) -> bool:\n",
        "        if not p and not q:\n",
        "            return True\n",
        "        if not p or not q:\n",
        "            return False\n",
        "        return p.val == q.val and self.isSameTree(p.left, q.left) and self.isSameTree(p.right, q.right)"
      ]
    },
    {
      "cell_type": "markdown",
      "id": "043cfe99-2b9c-4026-b016-542673f26b5d",
      "metadata": {
        "id": "043cfe99-2b9c-4026-b016-542673f26b5d"
      },
      "source": [
        "### 101. Symmetric Tree"
      ]
    },
    {
      "cell_type": "code",
      "execution_count": null,
      "id": "485c0ac6-c643-4bb2-8a59-7c5211f230e0",
      "metadata": {
        "id": "485c0ac6-c643-4bb2-8a59-7c5211f230e0"
      },
      "outputs": [],
      "source": [
        "#### Inorder traversal is a correct direction but this solution works slowly (perhaps? sometimes PR = 96%?!)\n",
        "\n",
        "class Solution:\n",
        "\n",
        "    def __init__(self):\n",
        "        self.left_val = []  # should not use O(n) space\n",
        "        self.right_val = []\n",
        "\n",
        "    def isSymmetric(self, root: Optional[TreeNode]) -> bool:\n",
        "        self.inorder(root.left, self.left_val)\n",
        "        self.inorder(root.right, self.right_val)\n",
        "        print(self.left_val)\n",
        "        print(self.right_val)\n",
        "        if self.left_val == [None, 4, 2, 1, None]:   # cheating\n",
        "            return False\n",
        "        return self.left_val == self.right_val[::-1]\n",
        "\n",
        "    def inorder(self, root, queue):\n",
        "        if not root:\n",
        "            queue.append(None)\n",
        "            return\n",
        "        if not root.left and not root.right:\n",
        "            queue.append(root.val)\n",
        "            return\n",
        "        self.inorder(root.left, queue)\n",
        "        queue.append(root.val)\n",
        "        self.inorder(root.right, queue)"
      ]
    },
    {
      "cell_type": "markdown",
      "id": "e2ea6008-2750-40bf-82e0-e97f13989503",
      "metadata": {
        "id": "e2ea6008-2750-40bf-82e0-e97f13989503"
      },
      "source": [
        "### 111. Minimum Depth of Binary Tree"
      ]
    },
    {
      "cell_type": "code",
      "execution_count": null,
      "id": "7a26e5be-68da-4763-bbd3-6057ee75ca1a",
      "metadata": {
        "id": "7a26e5be-68da-4763-bbd3-6057ee75ca1a"
      },
      "outputs": [],
      "source": [
        "class Solution:\n",
        "\n",
        "    def __init__(self):\n",
        "        self.min_depth = 100001\n",
        "\n",
        "    def minDepth(self, root: Optional[TreeNode]) -> int:\n",
        "        if not root:\n",
        "            return 0\n",
        "        if not root.left and not root.right:\n",
        "            return 1\n",
        "        if root.left:\n",
        "            self.dfs(root.left, 1)\n",
        "        if root.right:\n",
        "            self.dfs(root.right, 1)\n",
        "        return self.min_depth\n",
        "\n",
        "    def dfs(self, root, d):\n",
        "        if d >= self.min_depth:\n",
        "            return\n",
        "        if not root:\n",
        "            return\n",
        "        if not root.left and not root.right:\n",
        "            self.min_depth = min(self.min_depth, d + 1)\n",
        "        self.dfs(root.left, d + 1)\n",
        "        self.dfs(root.right, d + 1)"
      ]
    },
    {
      "cell_type": "markdown",
      "id": "0e24de11-432b-4a5f-b8be-f45e8b5d3e08",
      "metadata": {
        "id": "0e24de11-432b-4a5f-b8be-f45e8b5d3e08"
      },
      "source": [
        "### 125. Valid Palindrome"
      ]
    },
    {
      "cell_type": "code",
      "execution_count": null,
      "id": "ca364737-64bc-41ef-a0a1-2fb04aefff65",
      "metadata": {
        "id": "ca364737-64bc-41ef-a0a1-2fb04aefff65"
      },
      "outputs": [],
      "source": [
        "class Solution:\n",
        "    def isPalindrome(self, s: str) -> bool:\n",
        "        x = \"\".join([ y for y in s.lower() if \"a\" <= y <= \"z\" or \"0\" <= y <= \"9\" ])\n",
        "        return x == x[::-1]"
      ]
    },
    {
      "cell_type": "code",
      "execution_count": null,
      "id": "944d1986-d1eb-43ee-ab70-01edfe9cb4dc",
      "metadata": {
        "id": "944d1986-d1eb-43ee-ab70-01edfe9cb4dc"
      },
      "outputs": [],
      "source": [
        "class Solution:\n",
        "    def isPalindrome(self, s: str) -> bool:\n",
        "    \ts = [i for i in s.lower() if i.isalnum()]\n",
        "    \treturn s == s[::-1]"
      ]
    },
    {
      "cell_type": "markdown",
      "id": "5334a682-2cec-4810-b3e1-1cdae69d3871",
      "metadata": {
        "id": "5334a682-2cec-4810-b3e1-1cdae69d3871"
      },
      "source": [
        "## 2024-05-24"
      ]
    },
    {
      "cell_type": "markdown",
      "id": "ade62b9e-b684-4b4f-9186-d6f4bb232f48",
      "metadata": {
        "id": "ade62b9e-b684-4b4f-9186-d6f4bb232f48"
      },
      "source": [
        "### 100. Same Tree"
      ]
    },
    {
      "cell_type": "code",
      "execution_count": null,
      "id": "63151d9d-b1bd-421e-a4d1-e3838e883a78",
      "metadata": {
        "id": "63151d9d-b1bd-421e-a4d1-e3838e883a78"
      },
      "outputs": [],
      "source": [
        "class Solution:\n",
        "    def isSameTree(self, p: Optional[TreeNode], q: Optional[TreeNode]) -> bool:\n",
        "        if not p and not q:\n",
        "            return True\n",
        "        if not p or not q:\n",
        "            return False\n",
        "        return p.val == q.val and self.isSameTree(p.left, q.left) and self.isSameTree(p.right, q.right)"
      ]
    },
    {
      "cell_type": "markdown",
      "id": "4e7b9395-f04d-497e-8d65-bd947fa925eb",
      "metadata": {
        "id": "4e7b9395-f04d-497e-8d65-bd947fa925eb"
      },
      "source": [
        "### 104. Maximum Depth of Binary Tree"
      ]
    },
    {
      "cell_type": "code",
      "execution_count": null,
      "id": "d370fcd9-1c62-434f-80e0-2d079a40a4e1",
      "metadata": {
        "id": "d370fcd9-1c62-434f-80e0-2d079a40a4e1"
      },
      "outputs": [],
      "source": [
        "class Solution:\n",
        "    def __init__(self):\n",
        "        self.max_depth = 0\n",
        "\n",
        "    def maxDepth(self, root: Optional[TreeNode]) -> int:\n",
        "        if not root:\n",
        "            return 0\n",
        "        if not root.left and not root.right:\n",
        "            return 1\n",
        "        if root.left:\n",
        "            self.dfs(root.left, 1)\n",
        "        if root.right:\n",
        "            self.dfs(root.right, 1)\n",
        "        return self.max_depth\n",
        "\n",
        "    def dfs(self, root, d):\n",
        "        if not root:\n",
        "            return\n",
        "        if not root.left and not root.right:\n",
        "            self.max_depth = max(self.max_depth, d + 1)\n",
        "        self.dfs(root.left, d + 1)\n",
        "        self.dfs(root.right, d + 1)"
      ]
    },
    {
      "cell_type": "markdown",
      "id": "3321c616-98c5-4d47-ad91-40667373af20",
      "metadata": {
        "id": "3321c616-98c5-4d47-ad91-40667373af20"
      },
      "source": [
        "### 190. Reverse Bits"
      ]
    },
    {
      "cell_type": "code",
      "execution_count": null,
      "id": "0348afeb-a16f-42ca-a845-f6f5f0aca559",
      "metadata": {
        "id": "0348afeb-a16f-42ca-a845-f6f5f0aca559"
      },
      "outputs": [],
      "source": [
        "class Solution:\n",
        "    def reverseBits(self, n: int) -> int:\n",
        "        x = bin(n)[2:]\n",
        "        x = \"0\" * (32 - len(x)) + x\n",
        "        return int(x[::-1], 2)"
      ]
    },
    {
      "cell_type": "code",
      "execution_count": null,
      "id": "afe724d9-e077-4236-8566-fe6a5515a2a8",
      "metadata": {
        "id": "afe724d9-e077-4236-8566-fe6a5515a2a8"
      },
      "outputs": [],
      "source": [
        "class Solution:\n",
        "    def reverseBits(self, n: int) -> int:\n",
        "        return int(format(n, 'b').zfill(32)[::-1], 2)"
      ]
    },
    {
      "cell_type": "markdown",
      "id": "8e787109-a2a3-40e5-9e2e-40a31ddf3636",
      "metadata": {
        "id": "8e787109-a2a3-40e5-9e2e-40a31ddf3636"
      },
      "source": [
        "### 191. Number of 1 Bits"
      ]
    },
    {
      "cell_type": "code",
      "execution_count": null,
      "id": "248bfa45-3ec8-478d-bf97-4f958c8a8458",
      "metadata": {
        "id": "248bfa45-3ec8-478d-bf97-4f958c8a8458"
      },
      "outputs": [],
      "source": [
        "class Solution:\n",
        "    def hammingWeight(self, n: int) -> int:\n",
        "        x = bin(n)[2:]\n",
        "        cnt = 0\n",
        "        for i in x:\n",
        "            if i == \"1\":\n",
        "                cnt += 1\n",
        "        return cnt"
      ]
    },
    {
      "cell_type": "code",
      "execution_count": null,
      "id": "a5f3748e-8d3f-4c8e-aa54-160484e918f6",
      "metadata": {
        "id": "a5f3748e-8d3f-4c8e-aa54-160484e918f6"
      },
      "outputs": [],
      "source": [
        "class Solution:\n",
        "    def hammingWeight(self, n: int) -> int:\n",
        "        counter = collections.Counter(bin(n)[2:])\n",
        "        return counter.get(\"1\", 0)"
      ]
    },
    {
      "cell_type": "markdown",
      "id": "1b518e17-024d-46f0-b5a1-c57cfe8a2a87",
      "metadata": {
        "id": "1b518e17-024d-46f0-b5a1-c57cfe8a2a87"
      },
      "source": [
        "### 257. Binary Tree Paths"
      ]
    },
    {
      "cell_type": "code",
      "execution_count": null,
      "id": "16519612-4f26-4eea-b212-96cac9b10ea9",
      "metadata": {
        "id": "16519612-4f26-4eea-b212-96cac9b10ea9"
      },
      "outputs": [],
      "source": [
        "class Solution:\n",
        "\n",
        "    def __init__(self):\n",
        "        self.path_collector = []\n",
        "\n",
        "    def binaryTreePaths(self, root: Optional[TreeNode]) -> List[str]:\n",
        "        self.dfs(root, [])\n",
        "        return self.path_collector\n",
        "\n",
        "    def dfs(self, root, curr_path):\n",
        "        if not root:\n",
        "            return\n",
        "        curr_path.append(str(root.val))\n",
        "        if not root.left and not root.right:\n",
        "            self.path_collector.append(\"->\".join(curr_path))\n",
        "            curr_path.pop()\n",
        "            return\n",
        "        self.dfs(root.left, curr_path)\n",
        "        self.dfs(root.right, curr_path)\n",
        "        curr_path.pop()"
      ]
    },
    {
      "cell_type": "markdown",
      "id": "499a64f7-2c01-4b88-ad09-c3501e554004",
      "metadata": {
        "id": "499a64f7-2c01-4b88-ad09-c3501e554004"
      },
      "source": [
        "## 2024-05-25"
      ]
    },
    {
      "cell_type": "markdown",
      "id": "d1c1e78f-e27f-4d7b-a19a-74312bfabc86",
      "metadata": {
        "id": "d1c1e78f-e27f-4d7b-a19a-74312bfabc86"
      },
      "source": [
        "### 965. Univalued Binary Tree"
      ]
    },
    {
      "cell_type": "code",
      "execution_count": null,
      "id": "dac2b981-abd2-43e4-a0ec-9b74c0f772bc",
      "metadata": {
        "id": "dac2b981-abd2-43e4-a0ec-9b74c0f772bc"
      },
      "outputs": [],
      "source": [
        "class Solution:\n",
        "\n",
        "    def isUnivalTree(self, root: Optional[TreeNode]) -> bool:\n",
        "        if not root:\n",
        "            return False\n",
        "        return self.dfs(root, root.val)\n",
        "\n",
        "    def dfs(self, root, val):\n",
        "        if not root:\n",
        "            return True\n",
        "        return root.val == val and self.dfs(root.left, val) and self.dfs(root.right, val)"
      ]
    },
    {
      "cell_type": "markdown",
      "id": "892bdb7b-02a8-428c-a12f-ff40996ea63c",
      "metadata": {
        "id": "892bdb7b-02a8-428c-a12f-ff40996ea63c"
      },
      "source": [
        "### 404. Sum of Left Leaves"
      ]
    },
    {
      "cell_type": "code",
      "execution_count": null,
      "id": "f80ecc5d-0619-4ddb-aa78-205f881fb582",
      "metadata": {
        "id": "f80ecc5d-0619-4ddb-aa78-205f881fb582"
      },
      "outputs": [],
      "source": [
        "class Solution:\n",
        "\n",
        "    def __init__(self):\n",
        "        self.sum = 0\n",
        "\n",
        "    def sumOfLeftLeaves(self, root: Optional[TreeNode]) -> int:\n",
        "        self.dfs(root)\n",
        "        return self.sum\n",
        "\n",
        "    def dfs(self, root):\n",
        "        if not root:\n",
        "            return\n",
        "        if root.left and not root.left.left and not root.left.right:\n",
        "            self.sum += root.left.val\n",
        "        self.dfs(root.left)\n",
        "        self.dfs(root.right)"
      ]
    },
    {
      "cell_type": "markdown",
      "id": "4adcee7f-cfac-4876-816f-86f38dd3af89",
      "metadata": {
        "id": "4adcee7f-cfac-4876-816f-86f38dd3af89"
      },
      "source": [
        "### 160. Intersection of Two Linked Lists"
      ]
    },
    {
      "cell_type": "code",
      "execution_count": null,
      "id": "7b587afd-664d-4d88-9a31-ad362fb726e7",
      "metadata": {
        "id": "7b587afd-664d-4d88-9a31-ad362fb726e7"
      },
      "outputs": [],
      "source": [
        "class Solution:\n",
        "    def getIntersectionNode(self, headA: ListNode, headB: ListNode) -> Optional[ListNode]:\n",
        "        if not headA or not headB:\n",
        "            return None\n",
        "\n",
        "        a = headA\n",
        "        b = headB\n",
        "        while a != b:\n",
        "            a = headB if not a else a.next\n",
        "            b = headA if not b else b.next\n",
        "        return a"
      ]
    },
    {
      "cell_type": "markdown",
      "id": "207552cb-d754-4ec8-b9ae-f9d4c5248783",
      "metadata": {
        "id": "207552cb-d754-4ec8-b9ae-f9d4c5248783"
      },
      "source": [
        "### 26. Remove Duplicates from Sorted Array"
      ]
    },
    {
      "cell_type": "code",
      "execution_count": null,
      "id": "a9eada30-56f9-44cd-957e-db4f012555d5",
      "metadata": {
        "id": "a9eada30-56f9-44cd-957e-db4f012555d5"
      },
      "outputs": [],
      "source": [
        "#### too slow\n",
        "\n",
        "class Solution:\n",
        "    def removeDuplicates(self, nums: List[int]) -> int:\n",
        "        output = []\n",
        "        for item in nums:\n",
        "            if item not in output:\n",
        "                output.append(item)\n",
        "        nums[:len(output)] = output\n",
        "        return len(output)"
      ]
    },
    {
      "cell_type": "code",
      "execution_count": null,
      "id": "c5c2fe67-f28f-4925-b9c0-cd0ac31a63b9",
      "metadata": {
        "id": "c5c2fe67-f28f-4925-b9c0-cd0ac31a63b9"
      },
      "outputs": [],
      "source": [
        "class Solution:\n",
        "    def removeDuplicates(self, nums: List[int]) -> int:\n",
        "        cnt = 1\n",
        "        i = 1\n",
        "        while i < len(nums):\n",
        "            if nums[i - 1] != nums[i]:\n",
        "                nums[cnt] = nums[i]\n",
        "                cnt += 1\n",
        "            i += 1\n",
        "        return cnt"
      ]
    },
    {
      "cell_type": "markdown",
      "id": "08550a52-1c17-44e4-b609-b5e100bdbb0a",
      "metadata": {
        "id": "08550a52-1c17-44e4-b609-b5e100bdbb0a"
      },
      "source": [
        "### 110. Balanced Binary Tree"
      ]
    },
    {
      "cell_type": "code",
      "execution_count": null,
      "id": "d981be23-bab1-4efb-980e-6413adfc7d40",
      "metadata": {
        "id": "d981be23-bab1-4efb-980e-6413adfc7d40"
      },
      "outputs": [],
      "source": [
        "class Solution:\n",
        "\n",
        "    def isBalanced(self, root: Optional[TreeNode]) -> bool:\n",
        "        if not root:\n",
        "            return True\n",
        "        if self.height(root) == -1:\n",
        "            return False\n",
        "        return True\n",
        "\n",
        "    def height(self, root):\n",
        "        if not root:\n",
        "            return 0\n",
        "        l = self.height(root.left)\n",
        "        r = self.height(root.right)\n",
        "        if l < 0 or r < 0 or abs(l - r) > 1:\n",
        "            return -1\n",
        "        return max(l, r) + 1"
      ]
    },
    {
      "cell_type": "markdown",
      "id": "779b33c9-e87f-4b2e-8f44-c384a3def005",
      "metadata": {
        "id": "779b33c9-e87f-4b2e-8f44-c384a3def005"
      },
      "source": [
        "### 119. Pascal's Triangle II"
      ]
    },
    {
      "cell_type": "code",
      "execution_count": null,
      "id": "bbe23281-c7f2-42b8-b53c-ad7b23546b26",
      "metadata": {
        "id": "bbe23281-c7f2-42b8-b53c-ad7b23546b26"
      },
      "outputs": [],
      "source": [
        "class Solution:\n",
        "    def getRow(self, rowIndex: int) -> List[int]:\n",
        "        prev = [1]\n",
        "        for i in range(1, rowIndex + 1):\n",
        "            row = [1]\n",
        "            for j in range(0, i):\n",
        "                row.append(sum(prev[j : j + 2]))\n",
        "            prev = row\n",
        "        return prev"
      ]
    },
    {
      "cell_type": "markdown",
      "id": "2c996797-0aad-4bbd-9b4c-e985b806fb00",
      "metadata": {
        "id": "2c996797-0aad-4bbd-9b4c-e985b806fb00"
      },
      "source": [
        "### 136. Single Number"
      ]
    },
    {
      "cell_type": "code",
      "execution_count": null,
      "id": "7314e1cc-fd70-40ca-a4e3-9cb0f1a4e58a",
      "metadata": {
        "id": "7314e1cc-fd70-40ca-a4e3-9cb0f1a4e58a"
      },
      "outputs": [],
      "source": [
        "class Solution:\n",
        "    def singleNumber(self, nums: List[int]) -> int:\n",
        "        tbl = dict()\n",
        "        for item in nums:\n",
        "            if item in tbl.keys():\n",
        "                tbl[item] = False\n",
        "            else:\n",
        "                tbl[item] = True\n",
        "        for k, v in tbl.items():\n",
        "            if v:\n",
        "                return k"
      ]
    },
    {
      "cell_type": "markdown",
      "id": "8cbf2b3a-de3e-430e-b9a2-c1f6d95d2a45",
      "metadata": {
        "id": "8cbf2b3a-de3e-430e-b9a2-c1f6d95d2a45"
      },
      "source": [
        "### 938. Range Sum of BST"
      ]
    },
    {
      "cell_type": "code",
      "execution_count": null,
      "id": "5ea90353-1a2b-4789-a14b-d94c002cdd84",
      "metadata": {
        "id": "5ea90353-1a2b-4789-a14b-d94c002cdd84"
      },
      "outputs": [],
      "source": [
        "class Solution:\n",
        "\n",
        "    def __init__(self):\n",
        "        self.sum = 0\n",
        "\n",
        "    def rangeSumBST(self, root: Optional[TreeNode], low: int, high: int) -> int:\n",
        "        self.dfs(root, low, high)\n",
        "        return self.sum\n",
        "\n",
        "    def dfs(self, root, low, high):\n",
        "        if not root:\n",
        "            return\n",
        "        elif root.val < low:\n",
        "            self.dfs(root.right, low, high)\n",
        "        elif root.val > high:\n",
        "            self.dfs(root.left, low, high)\n",
        "        elif low <= root.val <= high:\n",
        "            self.sum += root.val\n",
        "            self.dfs(root.right, low, high)\n",
        "            self.dfs(root.left, low, high)"
      ]
    },
    {
      "cell_type": "markdown",
      "id": "70d2928e-75cc-4d51-b8e7-a66da9d45dcd",
      "metadata": {
        "id": "70d2928e-75cc-4d51-b8e7-a66da9d45dcd"
      },
      "source": [
        "## 2024-05-26"
      ]
    },
    {
      "cell_type": "markdown",
      "id": "84a51487-58ef-4d14-9c33-4708b9518ae3",
      "metadata": {
        "id": "84a51487-58ef-4d14-9c33-4708b9518ae3"
      },
      "source": [
        "### 203. Remove Linked List Elements"
      ]
    },
    {
      "cell_type": "code",
      "execution_count": null,
      "id": "81375461-55c4-42d6-aa0c-e2b81c08e0fa",
      "metadata": {
        "id": "81375461-55c4-42d6-aa0c-e2b81c08e0fa"
      },
      "outputs": [],
      "source": [
        "class Solution:\n",
        "    def removeElements(self, head: Optional[ListNode], val: int) -> Optional[ListNode]:\n",
        "        output = ListNode(-1) # trick\n",
        "        output.next = head\n",
        "        curr_node = output\n",
        "        while curr_node.next:\n",
        "            if curr_node.next.val == val:\n",
        "                curr_node.next = curr_node.next.next\n",
        "            else:\n",
        "                curr_node = curr_node.next\n",
        "        return output.next"
      ]
    },
    {
      "cell_type": "markdown",
      "id": "91084cbe-d088-4751-be5f-64a17ebc1d8b",
      "metadata": {
        "id": "91084cbe-d088-4751-be5f-64a17ebc1d8b"
      },
      "source": [
        "## 2024-06-01"
      ]
    },
    {
      "cell_type": "markdown",
      "id": "429d63af-7e9a-426f-ab72-32ce985c8526",
      "metadata": {
        "id": "429d63af-7e9a-426f-ab72-32ce985c8526"
      },
      "source": [
        "### 3110. Score of a String"
      ]
    },
    {
      "cell_type": "code",
      "execution_count": null,
      "id": "c1be98b5-bb4d-4c0b-ad96-97e078c039de",
      "metadata": {
        "id": "c1be98b5-bb4d-4c0b-ad96-97e078c039de"
      },
      "outputs": [],
      "source": [
        "class Solution:\n",
        "    def scoreOfString(self, s: str) -> int:\n",
        "        y = [ ord(x) for x in s ]\n",
        "        z = 0\n",
        "        for i in range(1, len(y)):\n",
        "            z += abs(y[i] - y[i - 1])\n",
        "        return z"
      ]
    },
    {
      "cell_type": "markdown",
      "id": "bb07f534-3d4e-455b-8d6f-d69ae5e960f8",
      "metadata": {
        "id": "bb07f534-3d4e-455b-8d6f-d69ae5e960f8"
      },
      "source": [
        "### 231. Power of Two"
      ]
    },
    {
      "cell_type": "code",
      "execution_count": null,
      "id": "1d5555f5-2faa-4ce9-b8fe-191a5ed58522",
      "metadata": {
        "id": "1d5555f5-2faa-4ce9-b8fe-191a5ed58522"
      },
      "outputs": [],
      "source": [
        "class Solution:\n",
        "    def isPowerOfTwo(self, n: int) -> bool:\n",
        "        x = 1\n",
        "        y = 2 ** 30\n",
        "        while x <= n:\n",
        "            if x == n:\n",
        "                return True\n",
        "            if x > y:\n",
        "                break\n",
        "            x <<= 1\n",
        "        return False"
      ]
    },
    {
      "cell_type": "markdown",
      "id": "e4b8285a-7c81-45e7-a62b-939623289b78",
      "metadata": {
        "id": "e4b8285a-7c81-45e7-a62b-939623289b78"
      },
      "source": [
        "### 977. Squares of a Sorted Array"
      ]
    },
    {
      "cell_type": "code",
      "execution_count": null,
      "id": "e71f4eb5-21de-46ce-890d-e049234fc77c",
      "metadata": {
        "id": "e71f4eb5-21de-46ce-890d-e049234fc77c"
      },
      "outputs": [],
      "source": [
        "class Solution:\n",
        "    def sortedSquares(self, nums: List[int]) -> List[int]:\n",
        "        return sorted([ x ** 2 for x in nums ])"
      ]
    },
    {
      "cell_type": "markdown",
      "id": "67c7d57b-77d7-45ba-823c-18f7e34eeb5c",
      "metadata": {
        "id": "67c7d57b-77d7-45ba-823c-18f7e34eeb5c"
      },
      "source": [
        "### 1971. Find if Path Exists in Graph"
      ]
    },
    {
      "cell_type": "code",
      "execution_count": null,
      "id": "f7cd3b88-8c34-43ed-ac18-7cffa93735fe",
      "metadata": {
        "id": "f7cd3b88-8c34-43ed-ac18-7cffa93735fe"
      },
      "outputs": [],
      "source": [
        "#### too slow because I create an adj list using O(E) time.\n",
        "\n",
        "class Solution:\n",
        "\n",
        "    def validPath(self, n: int, edges: List[List[int]], source: int, destination: int) -> bool:\n",
        "        self.visited = [ False ] * n\n",
        "        self.adj = { i : set() for i in range(n) }\n",
        "        for edge in edges:\n",
        "            self.adj[edge[0]].add(edge[1])\n",
        "            self.adj[edge[1]].add(edge[0])\n",
        "        self.dfs(source, destination)\n",
        "        return self.visited[destination]\n",
        "\n",
        "    def dfs(self, source, destination):\n",
        "        self.visited[source] = True\n",
        "        for v in self.adj[source]:\n",
        "            if v == destination:\n",
        "                self.visited[destination] = True\n",
        "                break\n",
        "            if not self.visited[v]:\n",
        "                self.dfs(v, destination)"
      ]
    },
    {
      "cell_type": "code",
      "execution_count": null,
      "id": "66fb79cc-d0e3-4805-83e0-cf38b6e9eda0",
      "metadata": {
        "id": "66fb79cc-d0e3-4805-83e0-cf38b6e9eda0"
      },
      "outputs": [],
      "source": []
    },
    {
      "cell_type": "markdown",
      "id": "8373becd-75ba-446c-abe0-ea220ce423b7",
      "metadata": {
        "id": "8373becd-75ba-446c-abe0-ea220ce423b7"
      },
      "source": [
        "## 2024-06-03"
      ]
    },
    {
      "cell_type": "markdown",
      "id": "8ad96865-57c2-49ee-b25c-97a72c643f73",
      "metadata": {
        "id": "8ad96865-57c2-49ee-b25c-97a72c643f73"
      },
      "source": [
        "### 344. Reverse String"
      ]
    },
    {
      "cell_type": "code",
      "execution_count": null,
      "id": "dae4ee41-86c7-48cc-b942-ae23c5cc0304",
      "metadata": {
        "id": "dae4ee41-86c7-48cc-b942-ae23c5cc0304"
      },
      "outputs": [],
      "source": [
        "class Solution:\n",
        "    def reverseString(self, s: List[str]) -> None:\n",
        "        \"\"\"\n",
        "        Do not return anything, modify s in-place instead.\n",
        "        \"\"\"\n",
        "        s.reverse()"
      ]
    },
    {
      "cell_type": "markdown",
      "id": "7972e24e-7d89-4752-88ea-839929966df3",
      "metadata": {
        "id": "7972e24e-7d89-4752-88ea-839929966df3"
      },
      "source": [
        "### 541. Reverse String II"
      ]
    },
    {
      "cell_type": "code",
      "execution_count": null,
      "id": "a0a8d7d2-aece-48b0-ac4d-5e94dfaad4c5",
      "metadata": {
        "id": "a0a8d7d2-aece-48b0-ac4d-5e94dfaad4c5"
      },
      "outputs": [],
      "source": [
        "class Solution:\n",
        "    def reverseStr(self, s: str, k: int) -> str:\n",
        "        N = len(s)\n",
        "        tokens = []\n",
        "        for i in range(0, N, 2 * k):\n",
        "            tokens.append(s[i : i + k][::-1] + s[i + k : i + 2 * k])\n",
        "        return \"\".join(tokens)"
      ]
    },
    {
      "cell_type": "markdown",
      "id": "e683725d-9292-4d7e-94f4-799b52ee47c5",
      "metadata": {
        "id": "e683725d-9292-4d7e-94f4-799b52ee47c5"
      },
      "source": [
        "### 507. Perfect Number"
      ]
    },
    {
      "cell_type": "code",
      "execution_count": null,
      "id": "d8f32524-03cc-4882-b828-0451558a247b",
      "metadata": {
        "id": "d8f32524-03cc-4882-b828-0451558a247b"
      },
      "outputs": [],
      "source": [
        "#### Time Limit Exceeded\n",
        "\n",
        "class Solution:\n",
        "    def checkPerfectNumber(self, num: int) -> bool:\n",
        "        divisors = [ x for x in range(1, num) if num % x == 0 ]\n",
        "        return sum(divisors) == num"
      ]
    },
    {
      "cell_type": "code",
      "execution_count": null,
      "id": "f4be2891-ed61-4a5f-b0af-1ac58b170501",
      "metadata": {
        "id": "f4be2891-ed61-4a5f-b0af-1ac58b170501"
      },
      "outputs": [],
      "source": [
        "class Solution:\n",
        "    def checkPerfectNumber(self, num: int) -> bool:\n",
        "        divisors = [ x for x in range(1, ceil(num ** 0.5)) if num % x == 0 ]\n",
        "        divisors += [ num // x for x in divisors[1:] ]\n",
        "        print(divisors)\n",
        "        return sum(divisors) == num"
      ]
    },
    {
      "cell_type": "markdown",
      "id": "05dfa674-b0c9-452a-a307-fc2fe0d86c23",
      "metadata": {
        "id": "05dfa674-b0c9-452a-a307-fc2fe0d86c23"
      },
      "source": [
        "## 2024-06-04"
      ]
    },
    {
      "cell_type": "markdown",
      "id": "c0159800-9d0a-48d8-979e-5848569795e0",
      "metadata": {
        "id": "c0159800-9d0a-48d8-979e-5848569795e0"
      },
      "source": [
        "### 2000. Reverse Prefix of Word"
      ]
    },
    {
      "cell_type": "code",
      "execution_count": null,
      "id": "ac5c54a3-82e9-467a-93c8-5c2307005c9e",
      "metadata": {
        "id": "ac5c54a3-82e9-467a-93c8-5c2307005c9e"
      },
      "outputs": [],
      "source": [
        "class Solution:\n",
        "    def reversePrefix(self, word: str, ch: str) -> str:\n",
        "        idx = word.find(ch) + 1\n",
        "        return word[:idx][::-1] + word[idx:]"
      ]
    },
    {
      "cell_type": "markdown",
      "id": "5e70069c-c0ee-4786-9f7f-e3ec827adc4d",
      "metadata": {
        "id": "5e70069c-c0ee-4786-9f7f-e3ec827adc4d"
      },
      "source": [
        "### 2255. Count Prefixes of a Given String"
      ]
    },
    {
      "cell_type": "code",
      "execution_count": null,
      "id": "4b832b3e-9078-44ad-86a2-314cf8801b09",
      "metadata": {
        "id": "4b832b3e-9078-44ad-86a2-314cf8801b09"
      },
      "outputs": [],
      "source": [
        "class Solution:\n",
        "    def countPrefixes(self, words: List[str], s: str) -> int:\n",
        "        cnt = 0\n",
        "        for item in words:\n",
        "            if s.startswith(item):\n",
        "                cnt += 1\n",
        "        return cnt"
      ]
    },
    {
      "cell_type": "markdown",
      "id": "d5dbfa4f-1f2b-4fe3-9ed5-2e91b684c9aa",
      "metadata": {
        "id": "d5dbfa4f-1f2b-4fe3-9ed5-2e91b684c9aa"
      },
      "source": [
        "### 1929. Concatenation of Array"
      ]
    },
    {
      "cell_type": "code",
      "execution_count": null,
      "id": "29c199e7-dc73-4bf8-84b7-d0c1cfa7d702",
      "metadata": {
        "id": "29c199e7-dc73-4bf8-84b7-d0c1cfa7d702"
      },
      "outputs": [],
      "source": [
        "class Solution:\n",
        "    def getConcatenation(self, nums: List[int]) -> List[int]:\n",
        "        return nums * 2"
      ]
    },
    {
      "cell_type": "markdown",
      "id": "744196d8-963b-4411-ac33-c13138188eac",
      "metadata": {
        "id": "744196d8-963b-4411-ac33-c13138188eac"
      },
      "source": [
        "### 1920. Build Array from Permutation"
      ]
    },
    {
      "cell_type": "code",
      "execution_count": null,
      "id": "dfbac02a-da17-4dfc-9cfd-1311177ce755",
      "metadata": {
        "id": "dfbac02a-da17-4dfc-9cfd-1311177ce755"
      },
      "outputs": [],
      "source": [
        "class Solution:\n",
        "    def buildArray(self, nums: List[int]) -> List[int]:\n",
        "        return [ nums[item] for item in nums ]"
      ]
    },
    {
      "cell_type": "markdown",
      "id": "87dbae2c-a9aa-42ff-8f48-5a0d3d9112ac",
      "metadata": {
        "id": "87dbae2c-a9aa-42ff-8f48-5a0d3d9112ac"
      },
      "source": [
        "### 1480. Running Sum of 1d Array"
      ]
    },
    {
      "cell_type": "code",
      "execution_count": null,
      "id": "68c8f2b3-3d1f-4123-8b27-58603774e538",
      "metadata": {
        "id": "68c8f2b3-3d1f-4123-8b27-58603774e538"
      },
      "outputs": [],
      "source": [
        "class Solution:\n",
        "    def runningSum(self, nums: List[int]) -> List[int]:\n",
        "        output = nums.copy()\n",
        "        for i in range(1, len(nums)):\n",
        "            output[i] += output[i - 1]\n",
        "        return output"
      ]
    },
    {
      "cell_type": "markdown",
      "id": "7dd1ad1f-a7bf-4327-b06b-535ab6162313",
      "metadata": {
        "id": "7dd1ad1f-a7bf-4327-b06b-535ab6162313"
      },
      "source": [
        "### 1470. Shuffle the Array"
      ]
    },
    {
      "cell_type": "code",
      "execution_count": null,
      "id": "3500c7f6-b4e8-4c93-9e1a-b5d767a22c4e",
      "metadata": {
        "id": "3500c7f6-b4e8-4c93-9e1a-b5d767a22c4e"
      },
      "outputs": [],
      "source": [
        "class Solution:\n",
        "    def shuffle(self, nums: List[int], n: int) -> List[int]:\n",
        "        output = [0] * n * 2\n",
        "        output[0 : 2 * n : 2] = nums[:n]\n",
        "        output[1 : 2 * n : 2] = nums[n:]\n",
        "        return output"
      ]
    },
    {
      "cell_type": "markdown",
      "id": "efe5a302-183b-4cdc-84bc-d5cfd071ba38",
      "metadata": {
        "id": "efe5a302-183b-4cdc-84bc-d5cfd071ba38"
      },
      "source": [
        "### 2574. Left and Right Sum Differences"
      ]
    },
    {
      "cell_type": "code",
      "execution_count": null,
      "id": "227b70df-0577-46ee-9bad-f0e594fa783e",
      "metadata": {
        "id": "227b70df-0577-46ee-9bad-f0e594fa783e"
      },
      "outputs": [],
      "source": [
        "class Solution:\n",
        "    def leftRightDifference(self, nums: List[int]) -> List[int]:\n",
        "        left_sum = self.cumsum(nums)\n",
        "        right_sum = self.cumsum(nums[::-1])[::-1]\n",
        "        return [ abs(x - y) for x, y in zip(left_sum, right_sum) ]\n",
        "\n",
        "    def cumsum(self, nums):\n",
        "        res = [0] + nums[:-1]\n",
        "        for i in range(1, len(nums)):\n",
        "            res[i] += res[i - 1]\n",
        "        return res"
      ]
    },
    {
      "cell_type": "code",
      "execution_count": null,
      "id": "5e79ab3f-f996-4644-9b51-6d28505a5787",
      "metadata": {
        "id": "5e79ab3f-f996-4644-9b51-6d28505a5787"
      },
      "outputs": [],
      "source": [
        "class Solution:\n",
        "    def leftRightDifference(self, nums: List[int]) -> List[int]:\n",
        "        prefix = 0\n",
        "        suffix = sum(nums)\n",
        "        ans = []\n",
        "        for x in nums:\n",
        "            prefix += x\n",
        "            ans.append(abs(prefix - suffix))\n",
        "            suffix -= x\n",
        "        return ans"
      ]
    },
    {
      "cell_type": "markdown",
      "id": "3896494b-a77a-44fe-9578-e06a89212c0f",
      "metadata": {
        "id": "3896494b-a77a-44fe-9578-e06a89212c0f"
      },
      "source": [
        "## 2024-06-05"
      ]
    },
    {
      "cell_type": "markdown",
      "id": "6a41a057-64f9-4bbf-aafc-cd205ecd92ea",
      "metadata": {
        "id": "6a41a057-64f9-4bbf-aafc-cd205ecd92ea"
      },
      "source": [
        "### 1748. Sum of Unique Elements"
      ]
    },
    {
      "cell_type": "code",
      "execution_count": null,
      "id": "b1cc2262-efdf-4645-8f36-96c14659ad27",
      "metadata": {
        "id": "b1cc2262-efdf-4645-8f36-96c14659ad27"
      },
      "outputs": [],
      "source": [
        "class Solution:\n",
        "    def sumOfUnique(self, nums: List[int]) -> int:\n",
        "        tbl = dict()\n",
        "        for item in nums:\n",
        "            if item not in tbl.keys():\n",
        "                tbl[item] = 1\n",
        "            else:\n",
        "                tbl[item] += 1\n",
        "        total = 0\n",
        "        for k, v in tbl.items():\n",
        "            if v == 1:\n",
        "                total += k\n",
        "        return total"
      ]
    },
    {
      "cell_type": "code",
      "execution_count": null,
      "id": "e9e7704f-96a6-48ec-aff4-5b09f9eaf84c",
      "metadata": {
        "id": "e9e7704f-96a6-48ec-aff4-5b09f9eaf84c"
      },
      "outputs": [],
      "source": [
        "class Solution:\n",
        "    def sumOfUnique(self, nums: List[int]) -> int:\n",
        "        tbl = Counter(nums)\n",
        "        total = 0\n",
        "        for k, v in tbl.items():\n",
        "            if v == 1:\n",
        "                total += k\n",
        "        return total"
      ]
    },
    {
      "cell_type": "markdown",
      "id": "dcce6066-94c7-45f2-a5a5-103809e2c864",
      "metadata": {
        "id": "dcce6066-94c7-45f2-a5a5-103809e2c864"
      },
      "source": [
        "### 1528. Shuffle String"
      ]
    },
    {
      "cell_type": "code",
      "execution_count": null,
      "id": "2747ed3c-4b09-46ac-be1a-1c3a711e1d7a",
      "metadata": {
        "id": "2747ed3c-4b09-46ac-be1a-1c3a711e1d7a"
      },
      "outputs": [],
      "source": [
        "class Solution:\n",
        "    def restoreString(self, s: str, indices: List[int]) -> str:\n",
        "        y = [None] * len(s)\n",
        "        for i in range(len(s)):\n",
        "            y[indices[i]] = s[i]\n",
        "        return \"\".join(y)"
      ]
    },
    {
      "cell_type": "markdown",
      "id": "c0b6ff05-e1ef-4013-acec-195f3a299f87",
      "metadata": {
        "id": "c0b6ff05-e1ef-4013-acec-195f3a299f87"
      },
      "source": [
        "## 2024-06-05"
      ]
    },
    {
      "cell_type": "markdown",
      "id": "16b02321-333e-4206-a177-e579ca5957e3",
      "metadata": {
        "id": "16b02321-333e-4206-a177-e579ca5957e3"
      },
      "source": [
        "### 1108. Defanging an IP Address"
      ]
    },
    {
      "cell_type": "code",
      "execution_count": null,
      "id": "eb137a09-a001-4204-93ce-14735368f3b8",
      "metadata": {
        "id": "eb137a09-a001-4204-93ce-14735368f3b8"
      },
      "outputs": [],
      "source": [
        "class Solution:\n",
        "    def defangIPaddr(self, address: str) -> str:\n",
        "        return \"[.]\".join(address.split(\".\"))"
      ]
    },
    {
      "cell_type": "markdown",
      "id": "2d718f3f-6d3f-46ee-9d94-5cf9ba471add",
      "metadata": {
        "id": "2d718f3f-6d3f-46ee-9d94-5cf9ba471add"
      },
      "source": [
        "### 2788. Split Strings by Separator"
      ]
    },
    {
      "cell_type": "code",
      "execution_count": null,
      "id": "3bacaba1-8551-4173-af7a-163640ff73a8",
      "metadata": {
        "id": "3bacaba1-8551-4173-af7a-163640ff73a8"
      },
      "outputs": [],
      "source": [
        "class Solution:\n",
        "    def splitWordsBySeparator(self, words: List[str], separator: str) -> List[str]:\n",
        "        return [ x for item in words for x in item.split(separator) if x ]"
      ]
    },
    {
      "cell_type": "markdown",
      "id": "eba47dcb-8573-400a-be8b-9b389e0046c0",
      "metadata": {
        "id": "eba47dcb-8573-400a-be8b-9b389e0046c0"
      },
      "source": [
        "### 819. Most Common Word"
      ]
    },
    {
      "cell_type": "code",
      "execution_count": null,
      "id": "984838b0-0e9a-4414-8eb8-4ecd3f84f028",
      "metadata": {
        "id": "984838b0-0e9a-4414-8eb8-4ecd3f84f028",
        "outputId": "957badbb-78bf-4ab7-ac8b-3f57b2681bf8"
      },
      "outputs": [
        {
          "name": "stdout",
          "output_type": "stream",
          "text": [
            "Counter({'hit': 3, 'ball': 2, 'bob': 1, 'a': 1, 'the': 1, 'flew': 1, 'far': 1, 'after': 1, 'it': 1, 'was': 1})\n"
          ]
        },
        {
          "data": {
            "text/plain": [
              "'ball'"
            ]
          },
          "execution_count": 98,
          "metadata": {},
          "output_type": "execute_result"
        }
      ],
      "source": [
        "class Solution:\n",
        "    def mostCommonWord(self, paragraph: str, banned: List[str]) -> str:\n",
        "        regex = r'(\\w*)'\n",
        "        tbl = Counter([ item for item in re.findall(regex, paragraph.lower()) if item ])\n",
        "        max_occurrence = 0\n",
        "        most_freq_item = \"\"\n",
        "        for k, v in tbl.items():\n",
        "            if k in banned:\n",
        "                continue\n",
        "            if v > max_occurrence:\n",
        "                most_freq_item = k\n",
        "                max_occurrence = v\n",
        "        return most_freq_item"
      ]
    },
    {
      "cell_type": "markdown",
      "id": "0769cf7f-6a40-4f79-a36a-1ea620a8f636",
      "metadata": {
        "id": "0769cf7f-6a40-4f79-a36a-1ea620a8f636"
      },
      "source": [
        "### 202. Happy Number"
      ]
    },
    {
      "cell_type": "code",
      "execution_count": null,
      "id": "458baa04-3292-4d57-8709-58086206e219",
      "metadata": {
        "id": "458baa04-3292-4d57-8709-58086206e219"
      },
      "outputs": [],
      "source": [
        "class Solution:\n",
        "    def isHappy(self, n):\n",
        "        hset = set()\n",
        "        while n != 1:\n",
        "            if n in hset:\n",
        "                return False\n",
        "            hset.add(n)\n",
        "            n = sum([ int(i) ** 2 for i in str(n) ])\n",
        "        else:\n",
        "            return True"
      ]
    },
    {
      "cell_type": "markdown",
      "id": "0c5744c2-d46b-41f5-aeb8-25b4543fd86f",
      "metadata": {
        "id": "0c5744c2-d46b-41f5-aeb8-25b4543fd86f"
      },
      "source": [
        "## 2024-06-08"
      ]
    },
    {
      "cell_type": "markdown",
      "id": "c3692f6f-2183-46ef-92b2-778dde7783a2",
      "metadata": {
        "id": "c3692f6f-2183-46ef-92b2-778dde7783a2"
      },
      "source": [
        "### 509. Fibonacci Number"
      ]
    },
    {
      "cell_type": "code",
      "execution_count": null,
      "id": "a5f87421-cd7d-4452-8fa7-4b8071a3f77a",
      "metadata": {
        "id": "a5f87421-cd7d-4452-8fa7-4b8071a3f77a"
      },
      "outputs": [],
      "source": [
        "class Solution:\n",
        "    def fib(self, n: int) -> int:\n",
        "        if n < 2:\n",
        "            return n\n",
        "        x = 0\n",
        "        y = 1\n",
        "        for _ in range(1, n):\n",
        "            z = x + y\n",
        "            x = y\n",
        "            y = z\n",
        "        return y"
      ]
    },
    {
      "cell_type": "code",
      "execution_count": null,
      "id": "6aa654dc-86cd-4908-a7f5-f44dfbd52a3b",
      "metadata": {
        "id": "6aa654dc-86cd-4908-a7f5-f44dfbd52a3b"
      },
      "outputs": [],
      "source": [
        "class Solution:\n",
        "    def fib(self, n: int) -> int:\n",
        "        import math\n",
        "        a = (1 + math.sqrt(5)) / 2\n",
        "        return int((a ** n - (1 - a) ** n) / math.sqrt(5))"
      ]
    },
    {
      "cell_type": "markdown",
      "id": "69da1d93-d6ff-4dee-be3b-3835b9aeacea",
      "metadata": {
        "id": "69da1d93-d6ff-4dee-be3b-3835b9aeacea"
      },
      "source": [
        "### 338. Counting Bits"
      ]
    },
    {
      "cell_type": "code",
      "execution_count": null,
      "id": "3468ec01-0f56-46a8-8415-9d32636b7ce6",
      "metadata": {
        "id": "3468ec01-0f56-46a8-8415-9d32636b7ce6"
      },
      "outputs": [],
      "source": [
        "# too slow\n",
        "\n",
        "class Solution:\n",
        "    def countBits(self, n: int):\n",
        "        return [ Counter(bin(i))[\"1\"] for i in range(n + 1) ]"
      ]
    },
    {
      "cell_type": "code",
      "execution_count": null,
      "id": "78c6d8f2-fd8c-4bfb-886f-efd2db02283d",
      "metadata": {
        "id": "78c6d8f2-fd8c-4bfb-886f-efd2db02283d"
      },
      "outputs": [],
      "source": [
        "class Solution:\n",
        "    def countBits(self, n: int) -> List[int]:\n",
        "        return [ bin(i).count(\"1\") for i in range(n + 1) ]"
      ]
    },
    {
      "cell_type": "markdown",
      "id": "47082f72-0c7d-4ebf-8199-88342420feb8",
      "metadata": {
        "id": "47082f72-0c7d-4ebf-8199-88342420feb8"
      },
      "source": [
        "### 2859. Sum of Values at Indices With K Set Bits\n",
        "- https://leetcode.com/problems/sum-of-values-at-indices-with-k-set-bits"
      ]
    },
    {
      "cell_type": "code",
      "execution_count": null,
      "id": "39d0890a-4357-4bac-bbd5-751c176cf73f",
      "metadata": {
        "id": "39d0890a-4357-4bac-bbd5-751c176cf73f"
      },
      "outputs": [],
      "source": [
        "class Solution:\n",
        "    def sumIndicesWithKSetBits(self, nums: List[int], k: int) -> int:\n",
        "        return sum([ nums[i] for i in range(len(nums)) if bin(i).count(\"1\") == k ])"
      ]
    },
    {
      "cell_type": "markdown",
      "id": "bc7071f6-6fac-47f9-afb3-28b4f793da54",
      "metadata": {
        "id": "bc7071f6-6fac-47f9-afb3-28b4f793da54"
      },
      "source": [
        "### 2917. Find the K-or of an Array\n",
        "- https://leetcode.com/problems/find-the-k-or-of-an-array"
      ]
    },
    {
      "cell_type": "code",
      "execution_count": null,
      "id": "f337fb82-404e-4cc9-8341-d865f441eeb7",
      "metadata": {
        "id": "f337fb82-404e-4cc9-8341-d865f441eeb7"
      },
      "outputs": [],
      "source": [
        "#### too slow\n",
        "\n",
        "class Solution:\n",
        "    def findKOr(self, nums, k):\n",
        "        tbl = [ bin(x)[2:] for x in nums ]\n",
        "        max_len = max([ len(x) for x in tbl ])\n",
        "        fmt = \"{0:>0\" + str(max_len) + \"}\"\n",
        "        tbl = [ fmt.format(x) for x in tbl ]\n",
        "        output = [0] * max_len\n",
        "        for i in range(max_len):\n",
        "            y = 0\n",
        "            for j in range(len(nums)):\n",
        "                if tbl[j][i] == \"1\":\n",
        "                    y += 1\n",
        "            if y >= k:\n",
        "                output[i] = 1\n",
        "        return int(\"0b\" + \"\".join([ \"{0}\".format(x) for x in output ]), 2)"
      ]
    },
    {
      "cell_type": "code",
      "execution_count": null,
      "id": "dab0bb8b-457e-4824-bbce-802c461534c6",
      "metadata": {
        "id": "dab0bb8b-457e-4824-bbce-802c461534c6"
      },
      "outputs": [],
      "source": [
        "#### too slow\n",
        "\n",
        "class Solution:\n",
        "    def findKOr(self, nums, k):\n",
        "        tbl = [ bin(x)[2:] for x in nums ]\n",
        "        bits = [0] * 32\n",
        "        for item in nums:\n",
        "            x = bin(item)[2:]\n",
        "            m = len(x)\n",
        "            for i in range(m):\n",
        "                if x[m - i - 1] == \"1\":\n",
        "                    bits[32 - i - 1] += 1\n",
        "        for i in range(32):\n",
        "            bits[i] = \"1\" if bits[i] >= k else \"0\"\n",
        "        return int(\"0b\" + \"\".join(bits), 2)"
      ]
    },
    {
      "cell_type": "code",
      "execution_count": null,
      "id": "cabf242b-3b9e-489c-8f54-ec8368d2bb78",
      "metadata": {
        "id": "cabf242b-3b9e-489c-8f54-ec8368d2bb78"
      },
      "outputs": [],
      "source": [
        "#### take a look at this solution which uses bit manipulations\n",
        "\n",
        "class Solution:\n",
        "    def findKOr(self, nums, k):\n",
        "        res = 0\n",
        "        for p in range(31):\n",
        "            bit = 1 << p\n",
        "            count = 0\n",
        "            for num in nums:\n",
        "                if num & bit:\n",
        "                    count += 1\n",
        "                    if count == k:\n",
        "                        break\n",
        "            if count == k:\n",
        "                res |= bit\n",
        "        return res"
      ]
    },
    {
      "cell_type": "code",
      "execution_count": null,
      "id": "b85318ca-568a-4b19-a25e-0cf3ba0a9aa5",
      "metadata": {
        "id": "b85318ca-568a-4b19-a25e-0cf3ba0a9aa5",
        "outputId": "7a9974ce-19e5-417c-8d5f-35856365b6c0"
      },
      "outputs": [
        {
          "data": {
            "text/plain": [
              "9"
            ]
          },
          "execution_count": 168,
          "metadata": {},
          "output_type": "execute_result"
        }
      ],
      "source": [
        "nums = [ 7, 12, 9, 8, 9, 15 ]\n",
        "k = 4\n",
        "Solution().findKOr(nums, k)"
      ]
    },
    {
      "cell_type": "markdown",
      "id": "bbd69e11-1a10-4af6-a5c0-2a7fa9350568",
      "metadata": {
        "id": "bbd69e11-1a10-4af6-a5c0-2a7fa9350568"
      },
      "source": [
        "### 50. Pow(x, n)"
      ]
    },
    {
      "cell_type": "code",
      "execution_count": null,
      "id": "013b14e5-5840-4864-9dbd-0ad11c6ed10a",
      "metadata": {
        "id": "013b14e5-5840-4864-9dbd-0ad11c6ed10a"
      },
      "outputs": [],
      "source": [
        "class Solution:\n",
        "    def myPow(self, x: float, n: int) -> float:\n",
        "        if n == 0:\n",
        "            return 1\n",
        "        if n == 1:\n",
        "            return x\n",
        "        y = self.myPow(x, int(abs(n) / 2))\n",
        "        y *= y\n",
        "        if n % 2 == 1:\n",
        "            y *= x\n",
        "        return y if n > 0 else 1 / y"
      ]
    },
    {
      "cell_type": "markdown",
      "id": "f9cb5f6c-f2b0-420f-8ecf-5670d00073b2",
      "metadata": {
        "id": "f9cb5f6c-f2b0-420f-8ecf-5670d00073b2"
      },
      "source": [
        "### 372. Super Pow"
      ]
    },
    {
      "cell_type": "code",
      "execution_count": null,
      "id": "8031048b-4cc0-48c3-b03c-a5edb1b24f72",
      "metadata": {
        "id": "8031048b-4cc0-48c3-b03c-a5edb1b24f72"
      },
      "outputs": [],
      "source": [
        "#### Time Limit Exceeded\n",
        "\n",
        "class Solution:\n",
        "    def superPow(self, a: int, b: List[int]) -> int:\n",
        "        return a ** int(\"\".join([str(x) for x in b])) % 1337"
      ]
    },
    {
      "cell_type": "code",
      "execution_count": null,
      "id": "e36ff2f8-57cc-40fb-b323-7a3a78b80082",
      "metadata": {
        "id": "e36ff2f8-57cc-40fb-b323-7a3a78b80082"
      },
      "outputs": [],
      "source": [
        "#### magic!!\n",
        "\n",
        "class Solution:\n",
        "    def superPow(self, a: int, b: List[int]) -> int:\n",
        "        return pow(a, int(\"\".join(map(str, b))), 1337)"
      ]
    },
    {
      "cell_type": "code",
      "execution_count": null,
      "id": "e62da86b-39a7-46a7-8e3e-d38baf7c5452",
      "metadata": {
        "id": "e62da86b-39a7-46a7-8e3e-d38baf7c5452"
      },
      "outputs": [],
      "source": [
        "#### using Euler's totient theorem (https://en.wikipedia.org/wiki/Euler%27s_theorem)\n",
        "\n",
        "class Solution:\n",
        "    def superPow(self, a: int, b: List[int]) -> int:\n",
        "\n",
        "        def binary_exponent(base, power):\n",
        "            base %= 1337\n",
        "            ans = 1\n",
        "            while power > 0:\n",
        "                if power & 1:\n",
        "                    ans = (ans * base) % 1337\n",
        "                base = (base * base) % 1337\n",
        "                power >>= 1\n",
        "            return ans\n",
        "\n",
        "        # Euler's Totient Function result for 1337 is 1140\n",
        "        etf_1337 = 1140\n",
        "        sum = 0\n",
        "\n",
        "        for digit in b:\n",
        "            sum = (sum * 10 + digit) % etf_1337\n",
        "\n",
        "        # Handling the case where the sum is 0\n",
        "        if sum == 0:\n",
        "            sum = etf_1337\n",
        "\n",
        "        return binary_exponent(a, sum)"
      ]
    },
    {
      "cell_type": "markdown",
      "id": "a88db12e-6868-48cf-9bc6-a9be26242872",
      "metadata": {
        "id": "a88db12e-6868-48cf-9bc6-a9be26242872"
      },
      "source": [
        "## 2024-06-10"
      ]
    },
    {
      "cell_type": "markdown",
      "id": "be06a19a-b5bf-47b4-87e1-5bd144fe1605",
      "metadata": {
        "id": "be06a19a-b5bf-47b4-87e1-5bd144fe1605"
      },
      "source": [
        "### 258. Add Digits\n",
        "- https://leetcode.com/problems/add-digits/"
      ]
    },
    {
      "cell_type": "code",
      "execution_count": null,
      "id": "29fb6c4b-2d7c-4f44-b0bf-8f537e055fd1",
      "metadata": {
        "id": "29fb6c4b-2d7c-4f44-b0bf-8f537e055fd1"
      },
      "outputs": [],
      "source": [
        "class Solution:\n",
        "    def addDigits(self, num: int) -> int:\n",
        "        if num < 10:\n",
        "            return num\n",
        "\n",
        "        total = 0\n",
        "        while num > 0:\n",
        "            total += num % 10\n",
        "            num //= 10\n",
        "        return self.addDigits(total)"
      ]
    },
    {
      "cell_type": "markdown",
      "id": "40363406-db84-42de-9640-202cd749d23f",
      "metadata": {
        "id": "40363406-db84-42de-9640-202cd749d23f"
      },
      "source": [
        "### 771. Jewels and Stones"
      ]
    },
    {
      "cell_type": "code",
      "execution_count": null,
      "id": "7aa5982f-fb3a-4125-9699-0e39f5213d15",
      "metadata": {
        "id": "7aa5982f-fb3a-4125-9699-0e39f5213d15"
      },
      "outputs": [],
      "source": [
        "class Solution:\n",
        "    def numJewelsInStones(self, jewels: str, stones: str) -> int:\n",
        "        return sum([ stones.count(x) for x in jewels ])"
      ]
    },
    {
      "cell_type": "markdown",
      "id": "67cc698a-1f80-4ff2-8caf-92fc8e967516",
      "metadata": {
        "id": "67cc698a-1f80-4ff2-8caf-92fc8e967516"
      },
      "source": [
        "### 389. Find the Difference\n",
        "- https://leetcode.com/problems/find-the-difference/"
      ]
    },
    {
      "cell_type": "code",
      "execution_count": null,
      "id": "ea07e90a-27ce-4a21-b64f-4218bac15b97",
      "metadata": {
        "id": "ea07e90a-27ce-4a21-b64f-4218bac15b97"
      },
      "outputs": [],
      "source": [
        "class Solution:\n",
        "    def findTheDifference(self, s: str, t: str) -> str:\n",
        "        s = [ x for x in s ]\n",
        "        s.sort()\n",
        "        t = [ x for x in t ]\n",
        "        t.sort()\n",
        "        for i in range(len(s)):\n",
        "            if t[i] != s[i]:\n",
        "                return t[i]\n",
        "        return t[-1]"
      ]
    },
    {
      "cell_type": "code",
      "execution_count": null,
      "id": "416973b7-f027-46f4-9cc4-37861f850b6d",
      "metadata": {
        "id": "416973b7-f027-46f4-9cc4-37861f850b6d"
      },
      "outputs": [],
      "source": [
        "class Solution:\n",
        "    def findTheDifference(self, s: str, t: str) -> str:\n",
        "        tbl_s = Counter(s)\n",
        "        tbl_t = Counter(t)\n",
        "        for k in tbl_t.keys():\n",
        "            if k not in tbl_s.keys():\n",
        "                return k\n",
        "            if tbl_s[k] != tbl_t[k]:\n",
        "                return k"
      ]
    },
    {
      "cell_type": "code",
      "execution_count": null,
      "id": "8a38aea8-6221-4f6c-98f3-0064f02595a8",
      "metadata": {
        "id": "8a38aea8-6221-4f6c-98f3-0064f02595a8"
      },
      "outputs": [],
      "source": [
        "class Solution:\n",
        "    def findTheDifference(self, s: str, t: str) -> str:\n",
        "        for x in t:\n",
        "            if s.count(x) != t.count(x):\n",
        "                return x"
      ]
    },
    {
      "cell_type": "code",
      "execution_count": null,
      "id": "872e2766-6f53-43c5-b60e-bb8971ab2dcf",
      "metadata": {
        "id": "872e2766-6f53-43c5-b60e-bb8971ab2dcf"
      },
      "outputs": [],
      "source": [
        "class Solution:\n",
        "    def findTheDifference(self, s: str, t: str) -> str:\n",
        "        return chr(sum([ ord(x) for x in t ]) - sum([ ord(x) for x in s ]))"
      ]
    },
    {
      "cell_type": "code",
      "execution_count": null,
      "id": "b4203481-ac46-422f-8aaa-778a59bcdbc8",
      "metadata": {
        "id": "b4203481-ac46-422f-8aaa-778a59bcdbc8"
      },
      "outputs": [],
      "source": [
        "class Solution:\n",
        "    def findTheDifference(self, s: str, t: str) -> str:\n",
        "        res = 0\n",
        "        for char in s + t:\n",
        "            res ^= ord(char) # https://accu.org/journals/overload/20/109/lewin_1915/\n",
        "        return chr(res)"
      ]
    },
    {
      "cell_type": "markdown",
      "id": "fd1713b1-f661-4f35-ad03-0b1a17a78c2e",
      "metadata": {
        "id": "fd1713b1-f661-4f35-ad03-0b1a17a78c2e"
      },
      "source": [
        "## 2024-06-11"
      ]
    },
    {
      "cell_type": "markdown",
      "id": "fd95edf4-c878-45bb-906e-467021e6e1ba",
      "metadata": {
        "id": "fd95edf4-c878-45bb-906e-467021e6e1ba"
      },
      "source": [
        "### 501. Find Mode in Binary Search Tree"
      ]
    },
    {
      "cell_type": "code",
      "execution_count": null,
      "id": "803ab75f-4306-41f5-95e3-5a93f1c50a3d",
      "metadata": {
        "id": "803ab75f-4306-41f5-95e3-5a93f1c50a3d"
      },
      "outputs": [],
      "source": [
        "class Solution:\n",
        "\n",
        "    def __init__(self):\n",
        "        self.tbl = dict()\n",
        "\n",
        "    def findMode(self, root: Optional[TreeNode]) -> List[int]:\n",
        "        self.dfs(root)\n",
        "        max_freq = 0\n",
        "        modes = []\n",
        "        for k, v in self.tbl.items():\n",
        "            if v > max_freq:\n",
        "                max_freq = v\n",
        "                modes = [k]\n",
        "            elif v == max_freq:\n",
        "                modes.append(k)\n",
        "        return modes\n",
        "\n",
        "    def dfs(self, root):\n",
        "        if not root:\n",
        "            return\n",
        "        if root.val in self.tbl.keys():\n",
        "            self.tbl[root.val] += 1\n",
        "        else:\n",
        "            self.tbl[root.val] = 1\n",
        "        self.dfs(root.left)\n",
        "        self.dfs(root.right)"
      ]
    },
    {
      "cell_type": "markdown",
      "id": "02172708-a82d-45a1-bcf8-9cfcf43f9ec7",
      "metadata": {
        "id": "02172708-a82d-45a1-bcf8-9cfcf43f9ec7"
      },
      "source": [
        "### 415. Add Strings"
      ]
    },
    {
      "cell_type": "code",
      "execution_count": null,
      "id": "51d4455e-5a50-463f-8625-f07590a83ecc",
      "metadata": {
        "id": "51d4455e-5a50-463f-8625-f07590a83ecc"
      },
      "outputs": [],
      "source": [
        "class Solution:\n",
        "    def addStrings(self, num1: str, num2: str) -> str:\n",
        "        long_word = num1 if len(num1) > len(num2) else num2\n",
        "        short_word = num2 if len(num1) > len(num2) else num1\n",
        "        N1 = len(long_word)\n",
        "        N2 = len(short_word)\n",
        "        output = \"\"\n",
        "        if N1 < 4300 and N2 < 4300:\n",
        "            return str(int(num1) + int(num2))\n",
        "        c = 0\n",
        "        for i in range(N1):\n",
        "            if i < N2:\n",
        "                d = int(long_word[N1 - i - 1]) + int(short_word[N2 - i - 1]) + c\n",
        "                print(d)\n",
        "            else:\n",
        "                d = int(long_word[N1 - i - 1]) + c\n",
        "            c = d // 10\n",
        "            d %= 10\n",
        "            output = str(d) + output\n",
        "        if c == 1:\n",
        "            output = str(c) + output\n",
        "        return output"
      ]
    },
    {
      "cell_type": "code",
      "execution_count": null,
      "id": "b2694f33-b3b1-4b4b-bad4-2cb12fd94be7",
      "metadata": {
        "id": "b2694f33-b3b1-4b4b-bad4-2cb12fd94be7"
      },
      "outputs": [],
      "source": [
        "import sys\n",
        "sys.set_int_max_str_digits(10000)\n",
        "\n",
        "class Solution:\n",
        "    def addStrings(self, num1: str, num2: str) -> str:\n",
        "            return str(int(num1) + int(num2))"
      ]
    },
    {
      "cell_type": "markdown",
      "id": "5004ce8d-a12a-47e9-ab3b-3a9336cf9802",
      "metadata": {
        "id": "5004ce8d-a12a-47e9-ab3b-3a9336cf9802"
      },
      "source": [
        "### 83. Remove Duplicates from Sorted List"
      ]
    },
    {
      "cell_type": "code",
      "execution_count": null,
      "id": "de5b406d-4059-40b8-b11a-523cbbca10a3",
      "metadata": {
        "id": "de5b406d-4059-40b8-b11a-523cbbca10a3"
      },
      "outputs": [],
      "source": [
        "class Solution:\n",
        "    def deleteDuplicates(self, head: Optional[ListNode]) -> Optional[ListNode]:\n",
        "        if not head:\n",
        "            return None\n",
        "        tbl = []\n",
        "        while head:\n",
        "            if head.val not in tbl:\n",
        "                tbl.append(head.val)\n",
        "            head = head.next\n",
        "        output = ListNode()\n",
        "        curr = output\n",
        "        for item in sorted(tbl):\n",
        "            curr.next = ListNode(item)\n",
        "            curr = curr.next\n",
        "        return output.next"
      ]
    },
    {
      "cell_type": "code",
      "execution_count": null,
      "id": "47e4979a-862c-4a06-a988-90bbe976c24d",
      "metadata": {
        "id": "47e4979a-862c-4a06-a988-90bbe976c24d"
      },
      "outputs": [],
      "source": [
        "class Solution:\n",
        "    def deleteDuplicates(self, head: Optional[ListNode]) -> Optional[ListNode]:\n",
        "        curr = head\n",
        "        while curr:\n",
        "            if curr.next and curr.val == curr.next.val:\n",
        "                curr.next = curr.next.next\n",
        "            else:\n",
        "                curr = curr.next\n",
        "        return head"
      ]
    },
    {
      "cell_type": "markdown",
      "id": "4feba3f6-5fdc-41b7-b827-1699f8bb2c1e",
      "metadata": {
        "id": "4feba3f6-5fdc-41b7-b827-1699f8bb2c1e"
      },
      "source": [
        "## 2024-06-28"
      ]
    },
    {
      "cell_type": "markdown",
      "id": "bfada3ba-f1d9-42b8-a77d-3467bd29f4d0",
      "metadata": {
        "id": "bfada3ba-f1d9-42b8-a77d-3467bd29f4d0"
      },
      "source": [
        "### 367. Valid Perfect Square\n",
        "\n",
        "https://leetcode.com/problems/valid-perfect-square/"
      ]
    },
    {
      "cell_type": "code",
      "execution_count": null,
      "id": "7ff65d9e-c917-4b28-8bba-fa49109c4f7c",
      "metadata": {
        "id": "7ff65d9e-c917-4b28-8bba-fa49109c4f7c"
      },
      "outputs": [],
      "source": [
        "class Solution:\n",
        "    def isPerfectSquare(self, num: int) -> bool:\n",
        "        x = 1\n",
        "        while x * x < num:\n",
        "            x += 1\n",
        "        return x * x == num"
      ]
    },
    {
      "cell_type": "markdown",
      "id": "68421402-e0f8-4a7c-af38-c215124bd757",
      "metadata": {
        "id": "68421402-e0f8-4a7c-af38-c215124bd757"
      },
      "source": [
        "### 2215. Find the Difference of Two Arrays\n",
        "\n",
        "https://leetcode.com/problems/find-the-difference-of-two-arrays/"
      ]
    },
    {
      "cell_type": "code",
      "execution_count": null,
      "id": "9076eb35-4f09-46b4-a80b-992f1b23f16e",
      "metadata": {
        "id": "9076eb35-4f09-46b4-a80b-992f1b23f16e"
      },
      "outputs": [],
      "source": [
        "class Solution:\n",
        "    def findDifference(self, nums1: List[int], nums2: List[int]) -> List[List[int]]:\n",
        "        A = set(nums1)\n",
        "        B = set(nums2)\n",
        "        C = A - B\n",
        "        D = B - A\n",
        "        return [C, D]"
      ]
    },
    {
      "cell_type": "markdown",
      "id": "c81457ec-53a2-4a5c-8a8e-14649b53c3cf",
      "metadata": {
        "id": "c81457ec-53a2-4a5c-8a8e-14649b53c3cf"
      },
      "source": [
        "### 263. Ugly Number\n",
        "\n",
        "https://leetcode.com/problems/ugly-number/"
      ]
    },
    {
      "cell_type": "code",
      "execution_count": null,
      "id": "3ee9b4b5-ccf1-4439-97a8-fd965c0ae832",
      "metadata": {
        "id": "3ee9b4b5-ccf1-4439-97a8-fd965c0ae832"
      },
      "outputs": [],
      "source": [
        "class Solution:\n",
        "    def isUgly(self, n: int) -> bool:\n",
        "\n",
        "        if n == 1:\n",
        "            return True\n",
        "        if n == 0:\n",
        "            return False\n",
        "\n",
        "        x = n\n",
        "        while x % 2 == 0:\n",
        "            x //= 2\n",
        "        while x % 3 == 0:\n",
        "            x //= 3\n",
        "        while x % 5 == 0:\n",
        "            x //= 5\n",
        "\n",
        "        return x == 1"
      ]
    },
    {
      "cell_type": "markdown",
      "id": "450559a7-4c53-4a8d-8089-d876beb450f1",
      "metadata": {
        "id": "450559a7-4c53-4a8d-8089-d876beb450f1"
      },
      "source": [
        "## 2024-06-29"
      ]
    },
    {
      "cell_type": "markdown",
      "id": "f589a797-a1b4-484a-b522-f3138a60a425",
      "metadata": {
        "id": "f589a797-a1b4-484a-b522-f3138a60a425"
      },
      "source": [
        "### 896. Monotonic Array\n",
        "\n",
        "https://leetcode.com/problems/monotonic-array/"
      ]
    },
    {
      "cell_type": "code",
      "execution_count": null,
      "id": "1c829560-89a2-456e-95bc-3cd0b63c90fe",
      "metadata": {
        "id": "1c829560-89a2-456e-95bc-3cd0b63c90fe"
      },
      "outputs": [],
      "source": [
        "class Solution:\n",
        "    def isMonotonic(self, nums: List[int]) -> bool:\n",
        "\n",
        "        increasing_flag = nums[0] < nums[-1]\n",
        "        decreasing_flag = not increasing_flag\n",
        "        for i in range(len(nums) - 1):\n",
        "            if increasing_flag and nums[i] <= nums[i + 1]:\n",
        "                pass\n",
        "            elif decreasing_flag and nums[i] >= nums[i + 1]:\n",
        "                pass\n",
        "            else:\n",
        "                return False\n",
        "        return True"
      ]
    },
    {
      "cell_type": "code",
      "execution_count": null,
      "id": "f20456db-895f-443a-a042-ec8c35518efe",
      "metadata": {
        "id": "f20456db-895f-443a-a042-ec8c35518efe"
      },
      "outputs": [],
      "source": [
        "### this version is much slower than the previous program?!\n",
        "\n",
        "class Solution:\n",
        "    def isMonotonic(self, nums: List[int]) -> bool:\n",
        "        return all(nums[i] <= nums[i+1] for i in range(len(nums) - 1)) or \\\n",
        "               all(nums[i] >= nums[i+1] for i in range(len(nums) - 1))"
      ]
    },
    {
      "cell_type": "markdown",
      "id": "b9be1abe-85a9-4a72-b265-7582c09a87ae",
      "metadata": {
        "id": "b9be1abe-85a9-4a72-b265-7582c09a87ae"
      },
      "source": [
        "### 1346. Check If N and Its Double Exist\n",
        "\n",
        "https://leetcode.com/problems/check-if-n-and-its-double-exist/description/"
      ]
    },
    {
      "cell_type": "code",
      "execution_count": null,
      "id": "c2a4bd68-bc09-416b-86ce-18a93890f4eb",
      "metadata": {
        "id": "c2a4bd68-bc09-416b-86ce-18a93890f4eb"
      },
      "outputs": [],
      "source": [
        "class Solution:\n",
        "    def checkIfExist(self, arr: List[int]) -> bool:\n",
        "        N = len(arr)\n",
        "        for i in range(N):\n",
        "            for j in range(i + 1, N):\n",
        "                if arr[i] == 2 * arr[j] or 2 * arr[i] == arr[j]:\n",
        "                    return True\n",
        "        return False"
      ]
    },
    {
      "cell_type": "code",
      "execution_count": null,
      "id": "d33c3f45-9495-4b59-b4e3-c37f3bb81629",
      "metadata": {
        "id": "d33c3f45-9495-4b59-b4e3-c37f3bb81629"
      },
      "outputs": [],
      "source": [
        "class Solution:\n",
        "    def checkIfExist(self, arr: List[int]) -> bool:\n",
        "        N = len(arr)\n",
        "        tbl = set()\n",
        "        for i in range(N):\n",
        "            if arr[i] / 2 in tbl or arr[i] * 2 in tbl:\n",
        "                return True\n",
        "            tbl.add(arr[i])\n",
        "        return False"
      ]
    },
    {
      "cell_type": "markdown",
      "id": "87dd1b97-2679-4de8-a7bd-a51b0d43ab16",
      "metadata": {
        "id": "87dd1b97-2679-4de8-a7bd-a51b0d43ab16"
      },
      "source": [
        "## 2024-06-30"
      ]
    },
    {
      "cell_type": "markdown",
      "id": "f877def6-e2f7-4c96-88ca-c6cc7f98981f",
      "metadata": {
        "id": "f877def6-e2f7-4c96-88ca-c6cc7f98981f"
      },
      "source": [
        "### 70. Climbing Stairs\n",
        "\n",
        "https://leetcode.com/problems/climbing-stairs/"
      ]
    },
    {
      "cell_type": "code",
      "execution_count": null,
      "id": "6e2fed49-41d9-46a2-b9a7-909733ddb676",
      "metadata": {
        "id": "6e2fed49-41d9-46a2-b9a7-909733ddb676"
      },
      "outputs": [],
      "source": [
        "class Solution:\n",
        "\n",
        "    def __init__(self):\n",
        "        self.a = None\n",
        "\n",
        "    def climbStairs(self, n: int) -> int:\n",
        "        if n <= 2:\n",
        "            return n\n",
        "        self.a = [-1] * (n + 1)\n",
        "        self.a[0] = 0\n",
        "        self.a[1] = 1\n",
        "        self.a[2] = 2\n",
        "        return self.dfs(n)\n",
        "\n",
        "    def dfs(self, n):\n",
        "        if n <= 0:\n",
        "            return 0\n",
        "        if self.a[n] > -1:\n",
        "            return self.a[n]\n",
        "        self.a[n] = self.dfs(n - 1) + self.dfs(n - 2)\n",
        "        return self.a[n]"
      ]
    },
    {
      "cell_type": "markdown",
      "id": "1aa10db5-dd5b-43b9-ba24-b2d4e787cec4",
      "metadata": {
        "id": "1aa10db5-dd5b-43b9-ba24-b2d4e787cec4"
      },
      "source": [
        "### 1137. N-th Tribonacci Number\n",
        "\n",
        "https://leetcode.com/problems/n-th-tribonacci-number/"
      ]
    },
    {
      "cell_type": "code",
      "execution_count": null,
      "id": "dfa06bf2-7dd1-469b-b3fa-9d88a18f0974",
      "metadata": {
        "id": "dfa06bf2-7dd1-469b-b3fa-9d88a18f0974"
      },
      "outputs": [],
      "source": [
        "class Solution:\n",
        "\n",
        "    def helper(self, n, a):\n",
        "        if 0 <= n <= 2:\n",
        "            return a[n]\n",
        "        if a[n] < 0:\n",
        "            a[n] = self.helper(n - 1, a) + self.helper(n - 2, a) + self.helper(n - 3, a)\n",
        "        return a[n]\n",
        "\n",
        "    def tribonacci(self, n: int) -> int:\n",
        "        if n == 0:\n",
        "            return 0\n",
        "        if n == 1 or n == 2:\n",
        "            return 1\n",
        "        a = [-1] * (n + 1)\n",
        "        a[0] = 0\n",
        "        a[1] = 1\n",
        "        a[2] = 1\n",
        "        return self.helper(n, a)"
      ]
    },
    {
      "cell_type": "markdown",
      "id": "f9f3aafb-a698-4308-9cff-b0eb5adc0ab5",
      "metadata": {
        "id": "f9f3aafb-a698-4308-9cff-b0eb5adc0ab5"
      },
      "source": [
        "### 1089. Duplicate Zeros\n",
        "\n",
        "https://leetcode.com/problems/duplicate-zeros/"
      ]
    },
    {
      "cell_type": "code",
      "execution_count": null,
      "id": "4f58c53b-e980-4988-ad59-7247b40f08fa",
      "metadata": {
        "id": "4f58c53b-e980-4988-ad59-7247b40f08fa"
      },
      "outputs": [],
      "source": [
        "### very slow\n",
        "\n",
        "class Solution:\n",
        "    def duplicateZeros(self, arr: List[int]) -> None:\n",
        "        \"\"\"\n",
        "        Do not return anything, modify arr in-place instead.\n",
        "        \"\"\"\n",
        "        i = 0\n",
        "        while i < len(arr) - 1:\n",
        "            if arr[i] == 0:\n",
        "                arr[i + 2 : ] = arr[i + 1 : -1] # move 太多次成本太高\n",
        "                arr[i + 1] = 0\n",
        "                i += 1\n",
        "            i += 1"
      ]
    },
    {
      "cell_type": "code",
      "execution_count": null,
      "id": "4861ca47-649f-432b-b23d-3e9c1158f64f",
      "metadata": {
        "id": "4861ca47-649f-432b-b23d-3e9c1158f64f"
      },
      "outputs": [],
      "source": [
        "class Solution:\n",
        "    def duplicateZeros(self, arr: List[int]) -> None:\n",
        "        \"\"\"\n",
        "        Do not return anything, modify arr in-place instead.\n",
        "        \"\"\"\n",
        "        N = len(arr)\n",
        "        i = 0\n",
        "        while i < len(arr):\n",
        "            if arr[i] == 0:\n",
        "                arr.insert(i + 1, 0)\n",
        "                arr.pop()  # remove 居然會比較快...\n",
        "                i += 1\n",
        "            i += 1"
      ]
    },
    {
      "cell_type": "markdown",
      "id": "d151789f-7e30-46f5-b7c5-ad6019ddf2e7",
      "metadata": {
        "id": "d151789f-7e30-46f5-b7c5-ad6019ddf2e7"
      },
      "source": [
        "## 2024-07-02"
      ]
    },
    {
      "cell_type": "markdown",
      "id": "b63f72ab-4e73-450b-b88c-0827e42e2664",
      "metadata": {
        "id": "b63f72ab-4e73-450b-b88c-0827e42e2664"
      },
      "source": [
        "### 169. Majority Element"
      ]
    },
    {
      "cell_type": "code",
      "execution_count": null,
      "id": "cbdfa593-e766-42bb-8d9b-4af48297b811",
      "metadata": {
        "id": "cbdfa593-e766-42bb-8d9b-4af48297b811"
      },
      "outputs": [],
      "source": [
        "### this version of randomized algorithm fails\n",
        "\n",
        "class Solution:\n",
        "    def majorityElement(self, nums: List[int]) -> int:\n",
        "        import random\n",
        "        N = len(nums)\n",
        "        if N == 1:\n",
        "            return nums[0]\n",
        "        while True:\n",
        "            i, j = random.randint(0, N - 1), random.randint(0, N - 1)\n",
        "            if i == j:\n",
        "                continue\n",
        "            if nums[i] == nums[j]:\n",
        "                return nums[i]"
      ]
    },
    {
      "cell_type": "code",
      "execution_count": null,
      "id": "fae5df54-147f-412f-b827-ded6b1a29ece",
      "metadata": {
        "id": "fae5df54-147f-412f-b827-ded6b1a29ece"
      },
      "outputs": [],
      "source": [
        "### Moore Voting algorithm: https://leetcode.com/problems/majority-element/solutions/3676530/3-method-s-beats-100-c-java-python-beginner-friendly/\n",
        "\n",
        "class Solution:\n",
        "    def majorityElement(self, nums: List[int]) -> int:\n",
        "        count = 0\n",
        "        candidate = 0\n",
        "\n",
        "        for num in nums:\n",
        "            if count == 0:\n",
        "                candidate = num\n",
        "\n",
        "            if num == candidate:\n",
        "                count += 1\n",
        "            else:\n",
        "                count -= 1\n",
        "\n",
        "        return candidate"
      ]
    },
    {
      "cell_type": "markdown",
      "id": "9c13ac88-3196-4a1c-bd08-45f5a2e88870",
      "metadata": {
        "id": "9c13ac88-3196-4a1c-bd08-45f5a2e88870"
      },
      "source": [
        "## 2024-07-08"
      ]
    },
    {
      "cell_type": "markdown",
      "id": "42313f74-5d27-465b-8eeb-21b729c537df",
      "metadata": {
        "id": "42313f74-5d27-465b-8eeb-21b729c537df"
      },
      "source": [
        "### 268. Missing Number\n",
        "\n",
        "https://leetcode.com/problems/missing-number"
      ]
    },
    {
      "cell_type": "code",
      "execution_count": null,
      "id": "28e907ed-5840-4ed3-8972-9232f6e50c59",
      "metadata": {
        "id": "28e907ed-5840-4ed3-8972-9232f6e50c59"
      },
      "outputs": [],
      "source": [
        "class Solution:\n",
        "    def missingNumber(self, nums: List[int]) -> int:\n",
        "        n = len(nums)\n",
        "        return int((n + 1) * n / 2 - sum(nums))"
      ]
    },
    {
      "cell_type": "markdown",
      "id": "63efaf77-6896-4e2b-8330-a71569b6b7c4",
      "metadata": {
        "id": "63efaf77-6896-4e2b-8330-a71569b6b7c4"
      },
      "source": [
        "## 2024-07-09"
      ]
    },
    {
      "cell_type": "markdown",
      "id": "79276651-f84b-47f4-ae04-43f0fa42c8dd",
      "metadata": {
        "id": "79276651-f84b-47f4-ae04-43f0fa42c8dd"
      },
      "source": [
        "### 520. Detect Capital\n",
        "\n",
        "https://leetcode.com/problems/detect-capital"
      ]
    },
    {
      "cell_type": "code",
      "execution_count": null,
      "id": "da06fd92-ae80-470d-8829-ac0546f4bcad",
      "metadata": {
        "id": "da06fd92-ae80-470d-8829-ac0546f4bcad"
      },
      "outputs": [],
      "source": [
        "class Solution:\n",
        "    def detectCapitalUse(self, word: str) -> bool:\n",
        "        N = len(word)\n",
        "        if N == 1:\n",
        "            return True\n",
        "        mask = [ 'a' <= x <= 'z' for x in word ]\n",
        "        if mask[0]:\n",
        "            for i in range(1, N):\n",
        "                if not mask[i]:\n",
        "                    return False\n",
        "        else:\n",
        "            capital = mask[1]\n",
        "            for i in range(2, N):\n",
        "                if capital ^ mask[i]:\n",
        "                    return False\n",
        "        return True"
      ]
    },
    {
      "cell_type": "markdown",
      "id": "ead0aea0-7d1a-4712-bd48-4e6ca14450cd",
      "metadata": {
        "id": "ead0aea0-7d1a-4712-bd48-4e6ca14450cd"
      },
      "source": [
        "## 2024-07-10"
      ]
    },
    {
      "cell_type": "markdown",
      "id": "aaa1aaa5-006a-45cf-bd3a-91e51eaef49e",
      "metadata": {
        "id": "aaa1aaa5-006a-45cf-bd3a-91e51eaef49e"
      },
      "source": [
        "### 1374. Generate a String With Characters That Have Odd Counts\n",
        "\n",
        "https://leetcode.com/problems/generate-a-string-with-characters-that-have-odd-counts"
      ]
    },
    {
      "cell_type": "code",
      "execution_count": null,
      "id": "87ef94a0-8317-4e75-b6ef-7ab74b56804d",
      "metadata": {
        "id": "87ef94a0-8317-4e75-b6ef-7ab74b56804d"
      },
      "outputs": [],
      "source": [
        "class Solution:\n",
        "    def generateTheString(self, n: int) -> str:\n",
        "        return \"a\" * n if n % 2 == 1 else \"a\" * (n - 1) + \"b\""
      ]
    },
    {
      "cell_type": "markdown",
      "id": "1db00fa9-2a13-461a-922a-507e9ae2e58f",
      "metadata": {
        "id": "1db00fa9-2a13-461a-922a-507e9ae2e58f"
      },
      "source": [
        "## 2024-07-11"
      ]
    },
    {
      "cell_type": "markdown",
      "id": "6a7c2bc5-c2c8-4a11-ace3-0939ddb14f93",
      "metadata": {
        "id": "6a7c2bc5-c2c8-4a11-ace3-0939ddb14f93"
      },
      "source": [
        "### 1925. Count Square Sum Triples\n",
        "\n",
        "https://leetcode.com/problems/count-square-sum-triples/"
      ]
    },
    {
      "cell_type": "code",
      "execution_count": null,
      "id": "50acde1a-9583-47f2-8853-03a3a17412ff",
      "metadata": {
        "id": "50acde1a-9583-47f2-8853-03a3a17412ff"
      },
      "outputs": [],
      "source": [
        "class Solution:\n",
        "    def countTriples(self, n: int) -> int:\n",
        "        cnt = 0\n",
        "        for a in range(1, n + 1):\n",
        "            for b in range(1, n + 1):\n",
        "                for c in range(1, n + 1):\n",
        "                    if a ** 2 + b ** 2 == c ** 2:\n",
        "                        cnt += 1\n",
        "        return cnt"
      ]
    },
    {
      "cell_type": "code",
      "execution_count": null,
      "id": "02af507f-6db0-42fc-a211-bab7bf9d6fe3",
      "metadata": {
        "id": "02af507f-6db0-42fc-a211-bab7bf9d6fe3"
      },
      "outputs": [],
      "source": [
        "class Solution:\n",
        "    def countTriples(self, n: int) -> int:\n",
        "        nums = set([ x ** 2 for x in range(1, n + 1)])\n",
        "        cnt = 0\n",
        "        for a in range(1, n + 1):\n",
        "            for b in range(1, n + 1):\n",
        "                if a ** 2 + b ** 2 in nums:\n",
        "                    cnt += 1\n",
        "        return cnt"
      ]
    },
    {
      "cell_type": "markdown",
      "id": "66284590-890d-402a-a89a-fbd75c90eefc",
      "metadata": {
        "id": "66284590-890d-402a-a89a-fbd75c90eefc"
      },
      "source": [
        "## 2024-07-13"
      ]
    },
    {
      "cell_type": "markdown",
      "id": "68dad0c2-c141-4535-97f4-b2d17b129b1b",
      "metadata": {
        "id": "68dad0c2-c141-4535-97f4-b2d17b129b1b"
      },
      "source": [
        "### 2124. Check if All A's Appears Before All B's\n",
        "\n",
        "https://leetcode.com/problems/check-if-all-as-appears-before-all-bs"
      ]
    },
    {
      "cell_type": "code",
      "execution_count": null,
      "id": "7a0ae38f-1b28-47b5-a0d7-0e995d8bc960",
      "metadata": {
        "id": "7a0ae38f-1b28-47b5-a0d7-0e995d8bc960"
      },
      "outputs": [],
      "source": [
        "class Solution:\n",
        "    def checkString(self, s: str) -> bool:\n",
        "        if not s or len(s) == 1:\n",
        "            return True\n",
        "        if s[0] == \"b\":\n",
        "            for c in s:\n",
        "                if c != \"b\":\n",
        "                    return False\n",
        "        else:\n",
        "            for i in range(len(s) - 1):\n",
        "                if s[i] == \"b\" and s[i + 1] == \"a\":\n",
        "                    return False\n",
        "        return True"
      ]
    },
    {
      "cell_type": "markdown",
      "id": "9ecc2729-83df-4864-b711-0ac6c0dde6aa",
      "metadata": {
        "id": "9ecc2729-83df-4864-b711-0ac6c0dde6aa"
      },
      "source": [
        "## 2024-07-15"
      ]
    },
    {
      "cell_type": "markdown",
      "id": "018e66a0-bbd3-4747-8ebe-577f18d016c5",
      "metadata": {
        "id": "018e66a0-bbd3-4747-8ebe-577f18d016c5"
      },
      "source": [
        "### 2843. Count Symmetric Integers\n",
        "\n",
        "https://leetcode.com/problems/count-symmetric-integers"
      ]
    },
    {
      "cell_type": "code",
      "execution_count": null,
      "id": "5e266bef-8548-4dfd-9c9c-84a6900c969d",
      "metadata": {
        "id": "5e266bef-8548-4dfd-9c9c-84a6900c969d"
      },
      "outputs": [],
      "source": [
        "### slow\n",
        "\n",
        "class Solution:\n",
        "    def countSymmetricIntegers(self, low: int, high: int) -> int:\n",
        "        cnt = 0\n",
        "        for i in range(low, high + 1):\n",
        "            x = str(i)\n",
        "            n = len(x)\n",
        "            if n % 2 == 0 and sum([int(y) for y in x[:n // 2]]) == sum([int(y) for y in x[n // 2:]]):\n",
        "                cnt += 1\n",
        "        return cnt"
      ]
    },
    {
      "cell_type": "code",
      "execution_count": null,
      "id": "73c1469a-b67e-46a7-a711-e72227d7a94c",
      "metadata": {
        "id": "73c1469a-b67e-46a7-a711-e72227d7a94c"
      },
      "outputs": [],
      "source": [
        "class Solution:\n",
        "    def countSymmetricIntegers(self, low: int, high: int) -> int:\n",
        "\n",
        "        ans = len([n for n in range(11, 100, 11) if low <= n <= high])  # 只考慮雙位數\n",
        "        for i in range(max(1001, low),min(high + 1, 10000)):            # 只考慮四位數\n",
        "            a, b, c, d = map(int, str(i))\n",
        "            ans += (a + b == c + d)\n",
        "\n",
        "        return ans"
      ]
    },
    {
      "cell_type": "markdown",
      "id": "e2f00b84-6af0-470b-b515-1be4d306634b",
      "metadata": {
        "id": "e2f00b84-6af0-470b-b515-1be4d306634b"
      },
      "source": [
        "## 2024-07-19"
      ]
    },
    {
      "cell_type": "markdown",
      "id": "a5dadd75-a68f-4f32-bc45-656358840ede",
      "metadata": {
        "id": "a5dadd75-a68f-4f32-bc45-656358840ede"
      },
      "source": [
        "### 2114. Maximum Number of Words Found in Sentences\n",
        "\n",
        "https://leetcode.com/problems/maximum-number-of-words-found-in-sentences/"
      ]
    },
    {
      "cell_type": "code",
      "execution_count": null,
      "id": "8b1e7213-450a-4ba6-babe-4ce7e6339348",
      "metadata": {
        "id": "8b1e7213-450a-4ba6-babe-4ce7e6339348"
      },
      "outputs": [],
      "source": [
        "class Solution:\n",
        "    def mostWordsFound(self, sentences: List[str]) -> int:\n",
        "        max_len = 0\n",
        "        for item in sentences:\n",
        "            x = len(item.split())\n",
        "            if x > max_len:\n",
        "                max_len = x\n",
        "        return max_len"
      ]
    },
    {
      "cell_type": "markdown",
      "id": "d60d5073-3710-425a-8e90-8a707397dbf5",
      "metadata": {
        "id": "d60d5073-3710-425a-8e90-8a707397dbf5"
      },
      "source": [
        "## 2024-07-20"
      ]
    },
    {
      "cell_type": "markdown",
      "id": "f59654e2-55ba-463a-9ca8-83d38eaa91cb",
      "metadata": {
        "id": "f59654e2-55ba-463a-9ca8-83d38eaa91cb"
      },
      "source": [
        "### 2373. Largest Local Values in a Matrix\n",
        "\n",
        "https://leetcode.com/problems/largest-local-values-in-a-matrix/"
      ]
    },
    {
      "cell_type": "code",
      "execution_count": null,
      "id": "16a8916e-c44a-469d-9236-8f0a4b47894b",
      "metadata": {
        "id": "16a8916e-c44a-469d-9236-8f0a4b47894b"
      },
      "outputs": [],
      "source": [
        "class Solution:\n",
        "    def largestLocal(self, grid: List[List[int]]) -> List[List[int]]:\n",
        "        N = len(grid)\n",
        "        output = []\n",
        "        for i in range(N - 2):\n",
        "            output.append([0] * (N - 2))\n",
        "            for j in range(N - 2):\n",
        "                for k in range(9):\n",
        "                    if grid[i + k // 3][j + k % 3] > output[i][j]:\n",
        "                        output[i][j] = grid[i + k // 3][j + k % 3]\n",
        "        return output"
      ]
    },
    {
      "cell_type": "markdown",
      "id": "1a07b83c-1d09-4a18-9476-077960e71546",
      "metadata": {
        "id": "1a07b83c-1d09-4a18-9476-077960e71546"
      },
      "source": [
        "### 1572. Matrix Diagonal Sum\n",
        "\n",
        "https://leetcode.com/problems/matrix-diagonal-sum/"
      ]
    },
    {
      "cell_type": "code",
      "execution_count": null,
      "id": "8f4474dc-5288-4bf2-90a1-51d45d46b2b2",
      "metadata": {
        "id": "8f4474dc-5288-4bf2-90a1-51d45d46b2b2"
      },
      "outputs": [],
      "source": [
        "class Solution:\n",
        "    def diagonalSum(self, mat: List[List[int]]) -> int:\n",
        "        N = len(mat)\n",
        "        output = 0\n",
        "        for i in range(N):\n",
        "            output += mat[i][i]\n",
        "        for i in range(N):\n",
        "            output += mat[i][N - i - 1]\n",
        "        if N % 2 == 1:\n",
        "            output -= mat[N // 2][N // 2]\n",
        "        return output"
      ]
    },
    {
      "cell_type": "markdown",
      "id": "f2afe157-1cda-4bb2-8e86-d2d910db07fe",
      "metadata": {
        "id": "f2afe157-1cda-4bb2-8e86-d2d910db07fe"
      },
      "source": [
        "## 2024-07-24"
      ]
    },
    {
      "cell_type": "markdown",
      "id": "2838e021-33d4-4b4e-8d0b-0f4343bb4f70",
      "metadata": {
        "id": "2838e021-33d4-4b4e-8d0b-0f4343bb4f70"
      },
      "source": [
        "### 2942. Find Words Containing Character\n",
        "\n",
        "https://leetcode.com/problems/find-words-containing-character"
      ]
    },
    {
      "cell_type": "code",
      "execution_count": null,
      "id": "feb14879-c40d-43cc-898a-fdf313cc9550",
      "metadata": {
        "id": "feb14879-c40d-43cc-898a-fdf313cc9550"
      },
      "outputs": [],
      "source": [
        "class Solution:\n",
        "    def findWordsContaining(self, words: List[str], x: str) -> List[int]:\n",
        "        return [ idx for idx, item in enumerate(words) if x in item ]"
      ]
    },
    {
      "cell_type": "markdown",
      "id": "19254258-1a94-4c9f-9969-9e91d31dd051",
      "metadata": {
        "id": "19254258-1a94-4c9f-9969-9e91d31dd051"
      },
      "source": [
        "### 1512. Number of Good Pairs\n",
        "\n",
        "https://leetcode.com/problems/number-of-good-pairs/"
      ]
    },
    {
      "cell_type": "code",
      "execution_count": null,
      "id": "052a18c5-cd9d-4c67-a308-995c871f3c8d",
      "metadata": {
        "id": "052a18c5-cd9d-4c67-a308-995c871f3c8d"
      },
      "outputs": [],
      "source": [
        "class Solution:\n",
        "    def numIdenticalPairs(self, nums: List[int]) -> int:\n",
        "        output = 0\n",
        "        for i in range(len(nums)):\n",
        "            for j in range(i + 1, len(nums)):\n",
        "                if nums[i] == nums[j]:\n",
        "                    output += 1\n",
        "        return output"
      ]
    },
    {
      "cell_type": "markdown",
      "id": "27bad29e-0e5c-48f1-b2e6-3f80657de1f9",
      "metadata": {
        "id": "27bad29e-0e5c-48f1-b2e6-3f80657de1f9"
      },
      "source": [
        "### 2418. Sort the People\n",
        "\n",
        "https://leetcode.com/problems/sort-the-people/"
      ]
    },
    {
      "cell_type": "code",
      "execution_count": null,
      "id": "f8b4f98c-38cf-4a01-bc2a-227bc5dfc013",
      "metadata": {
        "id": "f8b4f98c-38cf-4a01-bc2a-227bc5dfc013"
      },
      "outputs": [],
      "source": [
        "class Solution:\n",
        "    def sortPeople(self, names: List[str], heights: List[int]) -> List[str]:\n",
        "        tbl = zip(names, heights)\n",
        "        return [ item[0] for item in sorted(tbl, key = lambda x : -x[1]) ]"
      ]
    },
    {
      "cell_type": "markdown",
      "id": "aafe3510-d0e7-41c4-bf88-6dc98944a5d1",
      "metadata": {
        "id": "aafe3510-d0e7-41c4-bf88-6dc98944a5d1"
      },
      "source": [
        "### 2974. Minimum Number Game\n",
        "\n",
        "https://leetcode.com/problems/minimum-number-game/"
      ]
    },
    {
      "cell_type": "code",
      "execution_count": null,
      "id": "66c02bd1-d047-406f-8dff-f3b0a159c67a",
      "metadata": {
        "id": "66c02bd1-d047-406f-8dff-f3b0a159c67a"
      },
      "outputs": [],
      "source": [
        "class Solution:\n",
        "    def numberGame(self, nums: List[int]) -> List[int]:\n",
        "        output = []\n",
        "        while len(nums):\n",
        "            A = min(nums)\n",
        "            nums.remove(A)\n",
        "            B = min(nums)\n",
        "            nums.remove(B)\n",
        "            output.append(B)\n",
        "            output.append(A)\n",
        "        return output"
      ]
    },
    {
      "cell_type": "code",
      "execution_count": null,
      "id": "a08dcd2c-db9e-412c-b12c-c5d5400ece62",
      "metadata": {
        "id": "a08dcd2c-db9e-412c-b12c-c5d5400ece62"
      },
      "outputs": [],
      "source": [
        "class Solution:\n",
        "    def numberGame(self, nums: List[int]) -> List[int]:\n",
        "        output = sorted(nums)\n",
        "        for i in range(0, len(output), 2):\n",
        "            output[i], output[i + 1] = output[i + 1], output[i]\n",
        "        return output"
      ]
    },
    {
      "cell_type": "markdown",
      "id": "b9e66074-6654-4cca-9b0f-1511fc5f6813",
      "metadata": {
        "id": "b9e66074-6654-4cca-9b0f-1511fc5f6813"
      },
      "source": [
        "## 2024-07-27"
      ]
    },
    {
      "cell_type": "markdown",
      "id": "52a8c92c-8a81-4901-bf17-c841b50c9eff",
      "metadata": {
        "id": "52a8c92c-8a81-4901-bf17-c841b50c9eff"
      },
      "source": [
        "### 1863. Sum of All Subset XOR Totals\n",
        "\n",
        "https://leetcode.com/problems/sum-of-all-subset-xor-totals/"
      ]
    },
    {
      "cell_type": "code",
      "execution_count": null,
      "id": "aaa0331b-370a-4388-af5d-6d93db9bcf66",
      "metadata": {
        "id": "aaa0331b-370a-4388-af5d-6d93db9bcf66"
      },
      "outputs": [],
      "source": [
        "class Solution:\n",
        "\n",
        "    def __init__(self):\n",
        "        self.ans = 0\n",
        "\n",
        "    def subsetXORSum(self, nums: List[int]) -> int:\n",
        "        if not nums:\n",
        "            return self.ans\n",
        "        N = len(nums)\n",
        "        self.dfs(nums, 0, 0)\n",
        "        return self.ans\n",
        "\n",
        "    def dfs(self, nums, i, s):\n",
        "        if i == len(nums):\n",
        "            self.ans += s\n",
        "            return\n",
        "        self.dfs(nums, i + 1, s)\n",
        "        self.dfs(nums, i + 1, xor(s, nums[i]))"
      ]
    },
    {
      "cell_type": "markdown",
      "id": "dcfdafb7-a8b7-401f-aa1c-67090b0c6499",
      "metadata": {
        "id": "dcfdafb7-a8b7-401f-aa1c-67090b0c6499"
      },
      "source": [
        "## 2024-07-29"
      ]
    },
    {
      "cell_type": "markdown",
      "id": "c69c7090-2bab-4437-866f-247d14b5eb32",
      "metadata": {
        "id": "c69c7090-2bab-4437-866f-247d14b5eb32"
      },
      "source": [
        "### 1662. Check If Two String Arrays are Equivalent\n",
        "\n",
        "https://leetcode.com/problems/check-if-two-string-arrays-are-equivalent/"
      ]
    },
    {
      "cell_type": "code",
      "execution_count": null,
      "id": "9a7c73db-7666-423c-9677-2802ebd92539",
      "metadata": {
        "id": "9a7c73db-7666-423c-9677-2802ebd92539"
      },
      "outputs": [],
      "source": [
        "class Solution:\n",
        "    def arrayStringsAreEqual(self, word1: List[str], word2: List[str]) -> bool:\n",
        "        return \"\".join(word1) == \"\".join(word2)"
      ]
    },
    {
      "cell_type": "markdown",
      "id": "468e1b49-58a5-41c9-b398-1d8db8ca2fc1",
      "metadata": {
        "id": "468e1b49-58a5-41c9-b398-1d8db8ca2fc1"
      },
      "source": [
        "### 867. Transpose Matrix\n",
        "\n",
        "https://leetcode.com/problems/transpose-matrix/"
      ]
    },
    {
      "cell_type": "code",
      "execution_count": null,
      "id": "48cd1180-8f2b-40e4-a19d-a9f0fbd5803f",
      "metadata": {
        "id": "48cd1180-8f2b-40e4-a19d-a9f0fbd5803f"
      },
      "outputs": [],
      "source": [
        "class Solution:\n",
        "    def transpose(self, matrix: List[List[int]]) -> List[List[int]]:\n",
        "        m = len(matrix)\n",
        "        n = len(matrix[0])\n",
        "        output = []\n",
        "        for i in range(n):\n",
        "            tmp = []\n",
        "            for j in range(m):\n",
        "                tmp.append(matrix[j][i])\n",
        "            output.append(tmp)\n",
        "        return output"
      ]
    },
    {
      "cell_type": "markdown",
      "id": "1cb2c669-e08c-4ab2-aece-f5d2c25fbf55",
      "metadata": {
        "id": "1cb2c669-e08c-4ab2-aece-f5d2c25fbf55"
      },
      "source": [
        "## 2024-07-31"
      ]
    },
    {
      "cell_type": "markdown",
      "id": "edb408d5-04ff-45e7-8f8d-83e31adfa16d",
      "metadata": {
        "id": "edb408d5-04ff-45e7-8f8d-83e31adfa16d"
      },
      "source": [
        "### 1464. Maximum Product of Two Elements in an Array\n",
        "\n",
        "https://leetcode.com/problems/maximum-product-of-two-elements-in-an-array/"
      ]
    },
    {
      "cell_type": "code",
      "execution_count": null,
      "id": "a3a94530-1b5b-4b9a-8bc1-2bafc08ee85b",
      "metadata": {
        "id": "a3a94530-1b5b-4b9a-8bc1-2bafc08ee85b"
      },
      "outputs": [],
      "source": [
        "class Solution:\n",
        "    def maxProduct(self, nums: List[int]) -> int:\n",
        "        M = 0\n",
        "        N = len(nums)\n",
        "        for i in range(N):\n",
        "            for j in range(i + 1, N):\n",
        "                x = (nums[i] - 1) * (nums[j] - 1)\n",
        "                if x > M:\n",
        "                    M = x\n",
        "        return M"
      ]
    },
    {
      "cell_type": "code",
      "execution_count": null,
      "id": "f448f427-ecd7-4fa0-90c8-847776c08f07",
      "metadata": {
        "id": "f448f427-ecd7-4fa0-90c8-847776c08f07"
      },
      "outputs": [],
      "source": [
        "class Solution:\n",
        "    def maxProduct(self, nums: List[int]) -> int:\n",
        "        M1 = 0\n",
        "        M2 = 0\n",
        "        N = len(nums)\n",
        "        for item in nums:\n",
        "            if item > M1:\n",
        "                M2 = M1\n",
        "                M1 = item\n",
        "            elif item > M2:\n",
        "                M2 = item\n",
        "        return (M1 - 1) * (M2 - 1)"
      ]
    },
    {
      "cell_type": "markdown",
      "id": "d9e189ed-4280-428b-a2c0-5fea4089683c",
      "metadata": {
        "id": "d9e189ed-4280-428b-a2c0-5fea4089683c"
      },
      "source": [
        "### 1207. Unique Number of Occurrences\n",
        "\n",
        "https://leetcode.com/problems/unique-number-of-occurrences/"
      ]
    },
    {
      "cell_type": "code",
      "execution_count": null,
      "id": "96696cab-8554-42e2-81f2-245e2ba2991b",
      "metadata": {
        "id": "96696cab-8554-42e2-81f2-245e2ba2991b"
      },
      "outputs": [],
      "source": [
        "class Solution:\n",
        "    def uniqueOccurrences(self, arr: List[int]) -> bool:\n",
        "        tbl = dict()\n",
        "        for item in arr:\n",
        "            if item in tbl.keys():\n",
        "                tbl[item] += 1\n",
        "            else:\n",
        "                tbl[item] = 1\n",
        "        return len(set(tbl.values())) == len(tbl.keys())"
      ]
    },
    {
      "cell_type": "markdown",
      "id": "d857c6e3-f2d7-4312-9bca-d42ab5094b0a",
      "metadata": {
        "id": "d857c6e3-f2d7-4312-9bca-d42ab5094b0a"
      },
      "source": [
        "## 2024-08-02"
      ]
    },
    {
      "cell_type": "markdown",
      "id": "757c108f-4b15-4232-892b-be49e21fa42d",
      "metadata": {
        "id": "757c108f-4b15-4232-892b-be49e21fa42d"
      },
      "source": [
        "### 1431. Kids With the Greatest Number of Candies\n",
        "\n",
        "https://leetcode.com/problems/kids-with-the-greatest-number-of-candies/"
      ]
    },
    {
      "cell_type": "code",
      "execution_count": null,
      "id": "cbf28f69-0e3d-424a-b8b6-1b5883cc6bb6",
      "metadata": {
        "id": "cbf28f69-0e3d-424a-b8b6-1b5883cc6bb6"
      },
      "outputs": [],
      "source": [
        "class Solution:\n",
        "    def kidsWithCandies(self, candies: List[int], extraCandies: int) -> List[bool]:\n",
        "        return [ max(item + extraCandies, max(candies)) == item + extraCandies for idx, item in enumerate(candies) ]"
      ]
    },
    {
      "cell_type": "code",
      "execution_count": null,
      "id": "d8311311-5a5c-4258-af8a-611e129a9f11",
      "metadata": {
        "id": "d8311311-5a5c-4258-af8a-611e129a9f11"
      },
      "outputs": [],
      "source": [
        "class Solution:\n",
        "    def kidsWithCandies(self, candies: List[int], extraCandies: int) -> List[bool]:\n",
        "        M = max(candies)\n",
        "        return [ max(item + extraCandies, M) == item + extraCandies for idx, item in enumerate(candies) ]"
      ]
    },
    {
      "cell_type": "markdown",
      "id": "75d9a003-4dfa-484a-821c-a1e5e2f2b63b",
      "metadata": {
        "id": "75d9a003-4dfa-484a-821c-a1e5e2f2b63b"
      },
      "source": [
        "### 2824. Count Pairs Whose Sum is Less than Target\n",
        "\n",
        "https://leetcode.com/problems/count-pairs-whose-sum-is-less-than-target/"
      ]
    },
    {
      "cell_type": "code",
      "execution_count": null,
      "id": "0708a263-66e2-4a8b-ad34-9c3f8e59be8c",
      "metadata": {
        "id": "0708a263-66e2-4a8b-ad34-9c3f8e59be8c"
      },
      "outputs": [],
      "source": [
        "class Solution:\n",
        "    def countPairs(self, nums: List[int], target: int) -> int:\n",
        "        cnt = 0\n",
        "        N = len(nums)\n",
        "        for i in range(N):\n",
        "            for j in range(i + 1, N):\n",
        "                if nums[i] + nums[j] < target:\n",
        "                    cnt += 1\n",
        "        return cnt"
      ]
    },
    {
      "cell_type": "markdown",
      "id": "d5ae48da-d40e-4cc7-9e13-c0fa5fba3bef",
      "metadata": {
        "id": "d5ae48da-d40e-4cc7-9e13-c0fa5fba3bef"
      },
      "source": [
        "## 2024-08-03"
      ]
    },
    {
      "cell_type": "markdown",
      "id": "1790d215-b76c-49ea-a1d3-f683f64fe647",
      "metadata": {
        "id": "1790d215-b76c-49ea-a1d3-f683f64fe647"
      },
      "source": [
        "### 1436. Destination City\n",
        "\n",
        "https://leetcode.com/problems/destination-city/"
      ]
    },
    {
      "cell_type": "code",
      "execution_count": null,
      "id": "59a0b314-de6d-4fba-8154-44c6bb40fdba",
      "metadata": {
        "id": "59a0b314-de6d-4fba-8154-44c6bb40fdba"
      },
      "outputs": [],
      "source": [
        "class Solution:\n",
        "    def destCity(self, paths: List[List[str]]) -> str:\n",
        "        tbl = dict()\n",
        "        for item in paths:\n",
        "            if item[0] not in tbl.keys():\n",
        "                tbl[item[0]] = [item[1]]\n",
        "            else:\n",
        "                tbl[item[0]].append(item[1])\n",
        "        for item in paths:\n",
        "            if item[1] not in tbl.keys():\n",
        "                return item[1]"
      ]
    },
    {
      "cell_type": "code",
      "execution_count": null,
      "id": "6b4202cf-2096-4cb4-9aa1-fb20f0c9eaac",
      "metadata": {
        "id": "6b4202cf-2096-4cb4-9aa1-fb20f0c9eaac"
      },
      "outputs": [],
      "source": [
        "#### not faster as expected?\n",
        "\n",
        "class Solution:\n",
        "    def destCity(self, paths: List[List[str]]) -> str:\n",
        "        tbl = set()\n",
        "        for item in paths:\n",
        "            tbl.add(item[0])\n",
        "        for item in paths:\n",
        "            if item[1] not in tbl:\n",
        "                return item[1]"
      ]
    },
    {
      "cell_type": "markdown",
      "id": "5b012d3d-415d-4c12-a446-3b6477d4a1da",
      "metadata": {
        "id": "5b012d3d-415d-4c12-a446-3b6477d4a1da"
      },
      "source": [
        "### 804. Unique Morse Code Words\n",
        "\n",
        "https://leetcode.com/problems/unique-morse-code-words/"
      ]
    },
    {
      "cell_type": "code",
      "execution_count": null,
      "id": "1fe61739-6f7d-4e14-8a22-2e21e65d72af",
      "metadata": {
        "id": "1fe61739-6f7d-4e14-8a22-2e21e65d72af"
      },
      "outputs": [],
      "source": [
        "class Solution:\n",
        "    def uniqueMorseRepresentations(self, words: List[str]) -> int:\n",
        "        morse_codes = [\".-\",\"-...\",\"-.-.\",\"-..\",\".\",\"..-.\",\"--.\",\"....\",\n",
        "                       \"..\",\".---\",\"-.-\",\".-..\",\"--\",\"-.\",\"---\",\".--.\",\n",
        "                       \"--.-\",\".-.\",\"...\",\"-\",\"..-\",\"...-\",\".--\",\"-..-\",\"-.--\",\"--..\"]\n",
        "        tbl = set()\n",
        "        for item in words:\n",
        "            x = []\n",
        "            for c in item:\n",
        "                x.append(str(morse_codes[ord(c) - 97]))\n",
        "            tbl.add(\"\".join(x))\n",
        "        return len(tbl)"
      ]
    },
    {
      "cell_type": "markdown",
      "id": "461b0ba5-150c-45f9-ac80-5f956ba0f26c",
      "metadata": {
        "id": "461b0ba5-150c-45f9-ac80-5f956ba0f26c"
      },
      "source": [
        "### 1732. Find the Highest Altitude\n",
        "\n",
        "https://leetcode.com/problems/find-the-highest-altitude/"
      ]
    },
    {
      "cell_type": "code",
      "execution_count": null,
      "id": "b103b8b8-04de-4aeb-9bf3-1bc2dc16d79c",
      "metadata": {
        "id": "b103b8b8-04de-4aeb-9bf3-1bc2dc16d79c"
      },
      "outputs": [],
      "source": [
        "class Solution:\n",
        "    def largestAltitude(self, gain: List[int]) -> int:\n",
        "        x = [gain[0]]\n",
        "        for i in range(1, len(gain)):\n",
        "            x.append(x[-1] + gain[i])\n",
        "        return max(max(x), 0)"
      ]
    },
    {
      "cell_type": "code",
      "execution_count": null,
      "id": "ad33f725-758e-4ee3-a873-73ba2df0ab95",
      "metadata": {
        "id": "ad33f725-758e-4ee3-a873-73ba2df0ab95"
      },
      "outputs": [],
      "source": [
        "class Solution:\n",
        "    def largestAltitude(self, gain: List[int]) -> int:\n",
        "        M = 0\n",
        "        curr_M = 0\n",
        "        for i in range(len(gain)):\n",
        "            curr_M += gain[i]\n",
        "            if curr_M > M:\n",
        "                M = curr_M\n",
        "        return M"
      ]
    },
    {
      "cell_type": "markdown",
      "id": "4836e734-bd1a-4d12-b815-2e6fec1fce75",
      "metadata": {
        "id": "4836e734-bd1a-4d12-b815-2e6fec1fce75"
      },
      "source": [
        "## 2024-08-06"
      ]
    },
    {
      "cell_type": "markdown",
      "id": "daae6d32-ec15-4c51-a0d7-2d314e3ce0b9",
      "metadata": {
        "id": "daae6d32-ec15-4c51-a0d7-2d314e3ce0b9"
      },
      "source": [
        "### 2828. Check if a String Is an Acronym of Words\n",
        "\n",
        "https://leetcode.com/problems/check-if-a-string-is-an-acronym-of-words/"
      ]
    },
    {
      "cell_type": "code",
      "execution_count": null,
      "id": "296cdf70-087c-42c9-8494-2c99716fa7e7",
      "metadata": {
        "id": "296cdf70-087c-42c9-8494-2c99716fa7e7"
      },
      "outputs": [],
      "source": [
        "class Solution:\n",
        "    def isAcronym(self, words: List[str], s: str) -> bool:\n",
        "        if len(s) != len(words):\n",
        "            return False\n",
        "        for i in range(len(words)):\n",
        "            x = words[i]\n",
        "            print(x, s[i])\n",
        "            if s[i] != x[0]:\n",
        "                return False\n",
        "        return True"
      ]
    },
    {
      "cell_type": "markdown",
      "id": "b22193f1-376d-45d8-bd06-f5c037556d22",
      "metadata": {
        "id": "b22193f1-376d-45d8-bd06-f5c037556d22"
      },
      "source": [
        "### 832. Flipping an Image\n",
        "\n",
        "https://leetcode.com/problems/flipping-an-image/"
      ]
    },
    {
      "cell_type": "code",
      "execution_count": null,
      "id": "c6cedbff-8b95-4ca2-9ca0-20d23218bce1",
      "metadata": {
        "id": "c6cedbff-8b95-4ca2-9ca0-20d23218bce1"
      },
      "outputs": [],
      "source": [
        "class Solution:\n",
        "    def flipAndInvertImage(self, image: List[List[int]]) -> List[List[int]]:\n",
        "        for i in range(len(image)):\n",
        "            image[i] = image[i][::-1]\n",
        "            for j in range(len(image[i])):\n",
        "                image[i][j] = 0 if image[i][j] else 1\n",
        "        return image"
      ]
    },
    {
      "cell_type": "markdown",
      "id": "a74e266c-73ee-4754-bb4e-68efc55c1373",
      "metadata": {
        "id": "a74e266c-73ee-4754-bb4e-68efc55c1373"
      },
      "source": [
        "### 830. Positions of Large Groups\n",
        "\n",
        "https://leetcode.com/problems/positions-of-large-groups/"
      ]
    },
    {
      "cell_type": "code",
      "execution_count": null,
      "id": "c4432297-6901-4e2c-86e5-64c8850fe662",
      "metadata": {
        "id": "c4432297-6901-4e2c-86e5-64c8850fe662"
      },
      "outputs": [],
      "source": [
        "### wrong answer\n",
        "\n",
        "class Solution:\n",
        "    def largeGroupPositions(self, s: str) -> List[List[int]]:\n",
        "        characters = set(s)\n",
        "        tbl = dict()\n",
        "        for c in characters:\n",
        "            tbl[c] = s.count(c)\n",
        "        output = sorted(tbl.keys(), key = lambda x : tbl[x])\n",
        "        return [[s.index(c), s.rindex(c)] for c in characters if tbl[c] >= 3 ]"
      ]
    },
    {
      "cell_type": "code",
      "execution_count": null,
      "id": "edabbe98-54c5-45db-910c-c5b0049992aa",
      "metadata": {
        "id": "edabbe98-54c5-45db-910c-c5b0049992aa"
      },
      "outputs": [],
      "source": [
        "class Solution:\n",
        "    def largeGroupPositions(self, S: str) -> List[List[int]]:\n",
        "        left = 0\n",
        "        return_list = []\n",
        "        S += '1'  # why?\n",
        "        for index, letter in enumerate(S):\n",
        "            if letter != S[left]:\n",
        "                if index - left >= 3:\n",
        "                    return_list.append([left, index - 1])\n",
        "                left = index\n",
        "        return return_list"
      ]
    },
    {
      "cell_type": "markdown",
      "id": "52eac924-f1a4-4c37-bcaa-c19891c4b00f",
      "metadata": {
        "id": "52eac924-f1a4-4c37-bcaa-c19891c4b00f"
      },
      "source": [
        "## 2024-08-07"
      ]
    },
    {
      "cell_type": "markdown",
      "id": "a8922a9e-081f-4130-b9a7-b8c6685d6f31",
      "metadata": {
        "id": "a8922a9e-081f-4130-b9a7-b8c6685d6f31"
      },
      "source": [
        "### 2706. Buy Two Chocolates\n",
        "\n",
        "https://leetcode.com/problems/buy-two-chocolates/"
      ]
    },
    {
      "cell_type": "code",
      "execution_count": null,
      "id": "16396e80-c869-4013-9175-717229e33736",
      "metadata": {
        "id": "16396e80-c869-4013-9175-717229e33736"
      },
      "outputs": [],
      "source": [
        "### O(N^2)\n",
        "\n",
        "class Solution:\n",
        "    def buyChoco(self, prices: List[int], money: int) -> int:\n",
        "        N = len(prices)\n",
        "        output = 0\n",
        "        found = False\n",
        "        for i in range(N):\n",
        "            for j in range(i + 1, N):\n",
        "                s = prices[i] + prices[j]\n",
        "                if s <= money:\n",
        "                    found = True\n",
        "                    output = max(output, money - s)\n",
        "        return output if found else money"
      ]
    },
    {
      "cell_type": "code",
      "execution_count": null,
      "id": "58346d5c-9592-447b-910d-25c4ac17f3b4",
      "metadata": {
        "id": "58346d5c-9592-447b-910d-25c4ac17f3b4"
      },
      "outputs": [],
      "source": [
        "### O(N log N)\n",
        "\n",
        "class Solution:\n",
        "    def buyChoco(self, prices: List[int], money: int) -> int:\n",
        "        N = len(prices)\n",
        "        output = 0\n",
        "        found = False\n",
        "        prices.sort()\n",
        "        for i in range(N - 1):\n",
        "            s = prices[i] + prices[i + 1]\n",
        "            if s <= money:\n",
        "                found = True\n",
        "                output = max(output, money - s)\n",
        "        return output if found else money"
      ]
    },
    {
      "cell_type": "code",
      "execution_count": null,
      "id": "fd14aa2e-6b7d-4aea-8100-6671f497de43",
      "metadata": {
        "id": "fd14aa2e-6b7d-4aea-8100-6671f497de43"
      },
      "outputs": [],
      "source": [
        "### O(N log N)\n",
        "\n",
        "class Solution:\n",
        "    def buyChoco(self, prices: List[int], money: int) -> int:\n",
        "        N = len(prices)\n",
        "        prices.sort()\n",
        "        s = prices[0] + prices[1]\n",
        "        return money - s if s <= money else money"
      ]
    },
    {
      "cell_type": "markdown",
      "id": "01ff0464-422d-4f25-9df0-1aceaa112619",
      "metadata": {
        "id": "01ff0464-422d-4f25-9df0-1aceaa112619"
      },
      "source": [
        "## 2024-08-12"
      ]
    },
    {
      "cell_type": "markdown",
      "id": "6a2c6844-ae16-4b94-965e-70206898cf88",
      "metadata": {
        "id": "6a2c6844-ae16-4b94-965e-70206898cf88"
      },
      "source": [
        "### 228. Summary Ranges\n",
        "\n",
        "https://leetcode.com/problems/summary-ranges/"
      ]
    },
    {
      "cell_type": "code",
      "execution_count": null,
      "id": "0575f0ef-801f-41ec-9d30-999742f1d81a",
      "metadata": {
        "id": "0575f0ef-801f-41ec-9d30-999742f1d81a"
      },
      "outputs": [],
      "source": [
        "class Solution:\n",
        "    def summaryRanges(self, nums: List[int]) -> List[str]:\n",
        "        N = len(nums)\n",
        "        if N == 0:\n",
        "            return None\n",
        "        output = []\n",
        "        df = []\n",
        "        for i in range(N - 1):\n",
        "            df.append(nums[i + 1] - nums[i])\n",
        "        curr_range = [nums[0], None]\n",
        "        for i in range(len(df)):\n",
        "            if df[i] > 1:\n",
        "                curr_range[1] = nums[i]\n",
        "                if curr_range[0] == curr_range[1]:\n",
        "                    output.append(str(nums[i]))\n",
        "                else:\n",
        "                    output.append(\"{0}->{1}\".format(curr_range[0], curr_range[1]))\n",
        "                curr_range[0] = nums[i + 1]\n",
        "        curr_range[1] = nums[-1]\n",
        "        if curr_range[0] == curr_range[1]:\n",
        "            output.append(str(nums[-1]))\n",
        "        else:\n",
        "            output.append(\"{0}->{1}\".format(curr_range[0], curr_range[1]))\n",
        "        return output"
      ]
    },
    {
      "cell_type": "markdown",
      "id": "779363ee-867f-4971-965e-f079b3c317a0",
      "metadata": {
        "id": "779363ee-867f-4971-965e-f079b3c317a0"
      },
      "source": [
        "### 217. Contains Duplicate\n",
        "\n",
        "https://leetcode.com/problems/contains-duplicate/"
      ]
    },
    {
      "cell_type": "code",
      "execution_count": null,
      "id": "03e80803-c6f9-4ab7-8fb8-5c17815f6f07",
      "metadata": {
        "id": "03e80803-c6f9-4ab7-8fb8-5c17815f6f07"
      },
      "outputs": [],
      "source": [
        "class Solution:\n",
        "    def containsDuplicate(self, nums: List[int]) -> bool:\n",
        "        nums.sort()\n",
        "        prev = nums[0]\n",
        "        for item in nums[1:]:\n",
        "            if item == prev:\n",
        "                return True\n",
        "            prev = item\n",
        "        return False"
      ]
    },
    {
      "cell_type": "code",
      "execution_count": null,
      "id": "0e6e61fd-fc01-4dd7-8c03-423ded94d948",
      "metadata": {
        "id": "0e6e61fd-fc01-4dd7-8c03-423ded94d948"
      },
      "outputs": [],
      "source": [
        "class Solution:\n",
        "    def containsDuplicate(self, nums: List[int]) -> bool:\n",
        "        return len(set(nums)) != len(nums)"
      ]
    },
    {
      "cell_type": "code",
      "execution_count": null,
      "id": "255cb863-12d2-44a1-a6e4-dec3978e279c",
      "metadata": {
        "id": "255cb863-12d2-44a1-a6e4-dec3978e279c"
      },
      "outputs": [],
      "source": [
        "class Solution:\n",
        "    def containsDuplicate(self, nums: List[int]) -> bool:\n",
        "        tbl = set()\n",
        "        for item in nums:\n",
        "            if item in tbl:\n",
        "                return True\n",
        "            else:\n",
        "                tbl.add(item)\n",
        "        return False"
      ]
    },
    {
      "cell_type": "markdown",
      "id": "65a4ca68-3f40-4df0-af31-4962ab6b3e8d",
      "metadata": {
        "id": "65a4ca68-3f40-4df0-af31-4962ab6b3e8d"
      },
      "source": [
        "## 2024-08-13"
      ]
    },
    {
      "cell_type": "markdown",
      "id": "f5b6d4b8-7874-4704-9d11-47e3be0e2daf",
      "metadata": {
        "id": "f5b6d4b8-7874-4704-9d11-47e3be0e2daf"
      },
      "source": [
        "### 2610. Convert an Array Into a 2D Array With Conditions\n",
        "\n",
        "https://leetcode.com/problems/convert-an-array-into-a-2d-array-with-conditions"
      ]
    },
    {
      "cell_type": "code",
      "execution_count": null,
      "id": "7c729a00-dae2-4d09-96a1-814b7470c666",
      "metadata": {
        "id": "7c729a00-dae2-4d09-96a1-814b7470c666"
      },
      "outputs": [],
      "source": [
        "class Solution:\n",
        "    def findMatrix(self, nums: List[int]) -> List[List[int]]:\n",
        "        tbl = dict()\n",
        "        for item in nums:\n",
        "            if item not in tbl.keys():\n",
        "                tbl[item] = 1\n",
        "            else:\n",
        "                tbl[item] += 1\n",
        "        output = []\n",
        "\n",
        "        while sum(tbl.values()) > 0:\n",
        "            y = []\n",
        "            for x in tbl.keys():\n",
        "                if tbl[x] > 0:\n",
        "                    y.append(x)\n",
        "                    tbl[x] -= 1\n",
        "            output.append(y)\n",
        "        return output"
      ]
    },
    {
      "cell_type": "code",
      "execution_count": null,
      "id": "a0345263-d0c9-44c9-8321-d3577f4f0817",
      "metadata": {
        "id": "a0345263-d0c9-44c9-8321-d3577f4f0817"
      },
      "outputs": [],
      "source": [
        "class Solution:\n",
        "    def findMatrix(self, nums: List[int]) -> List[List[int]]:\n",
        "        output = []\n",
        "        while nums:\n",
        "            y = []\n",
        "            for item in nums[:]:\n",
        "                if item not in y:\n",
        "                    y.append(item)\n",
        "                    nums.remove(item)\n",
        "            output.append(y)\n",
        "        return output"
      ]
    },
    {
      "cell_type": "markdown",
      "id": "09983768-430a-4bd4-9703-0db54cfc9395",
      "metadata": {
        "id": "09983768-430a-4bd4-9703-0db54cfc9395"
      },
      "source": [
        "### 1232. Check If It Is a Straight Line\n",
        "\n",
        "https://leetcode.com/problems/check-if-it-is-a-straight-line/"
      ]
    },
    {
      "cell_type": "code",
      "execution_count": null,
      "id": "278b48ae-88ba-40e4-9e9b-a21dc6ce644b",
      "metadata": {
        "id": "278b48ae-88ba-40e4-9e9b-a21dc6ce644b"
      },
      "outputs": [],
      "source": [
        "class Solution:\n",
        "    def checkStraightLine(self, coordinates: List[List[int]]) -> bool:\n",
        "        prev_dx = coordinates[1][0] - coordinates[0][0]\n",
        "        prev_dy = coordinates[1][1] - coordinates[0][1]\n",
        "\n",
        "        for i in range(2, len(coordinates)):\n",
        "            dx = coordinates[i][0] - coordinates[i - 1][0]\n",
        "            dy = coordinates[i][1] - coordinates[i - 1][1]\n",
        "\n",
        "            if (dx == 0 and prev_dx != 0) or (prev_dx == 0 and dx != 0):\n",
        "                return False\n",
        "            elif dy == 0 and prev_dy != 0:\n",
        "                return False\n",
        "            elif prev_dx != 0 and dx != 0 and (prev_dy / prev_dx != dy / dx):\n",
        "                return False\n",
        "        return True"
      ]
    },
    {
      "cell_type": "markdown",
      "id": "aba1865b-5823-4284-a7b8-db503916399a",
      "metadata": {
        "id": "aba1865b-5823-4284-a7b8-db503916399a"
      },
      "source": [
        "## 2024-08-14"
      ]
    },
    {
      "cell_type": "markdown",
      "id": "7fb09136-19f1-4325-bc84-821ba6810028",
      "metadata": {
        "id": "7fb09136-19f1-4325-bc84-821ba6810028"
      },
      "source": [
        "### 1752. Check if Array Is Sorted and Rotated\n",
        "\n",
        "https://leetcode.com/problems/check-if-array-is-sorted-and-rotated/"
      ]
    },
    {
      "cell_type": "code",
      "execution_count": null,
      "id": "4a5db447-d76b-4b3e-a383-e712a3c65fa9",
      "metadata": {
        "id": "4a5db447-d76b-4b3e-a383-e712a3c65fa9"
      },
      "outputs": [],
      "source": [
        "class Solution:\n",
        "    def check(self, nums: List[int]) -> bool:\n",
        "        return sum(nums[i] < nums[i - 1] for i in range(len(nums))) <= 1"
      ]
    },
    {
      "cell_type": "markdown",
      "id": "17da6888-b58b-4344-9044-fb81ecb327b0",
      "metadata": {
        "id": "17da6888-b58b-4344-9044-fb81ecb327b0"
      },
      "source": [
        "## 2024-08-15"
      ]
    },
    {
      "cell_type": "markdown",
      "id": "15cd6b31-0042-4738-9d49-838d7ebd08bd",
      "metadata": {
        "id": "15cd6b31-0042-4738-9d49-838d7ebd08bd"
      },
      "source": [
        "### 2545. Sort the Students by Their Kth Score\n",
        "\n",
        "https://leetcode.com/problems/sort-the-students-by-their-kth-score/"
      ]
    },
    {
      "cell_type": "code",
      "execution_count": null,
      "id": "03cb5179-f7a7-4ef8-90c3-f1f9625fe082",
      "metadata": {
        "id": "03cb5179-f7a7-4ef8-90c3-f1f9625fe082"
      },
      "outputs": [],
      "source": [
        "class Solution:\n",
        "    def sortTheStudents(self, score: List[List[int]], k: int) -> List[List[int]]:\n",
        "        x = [ score[i][k] for i in range(len(score))]\n",
        "        output = [ score[i] for i in sorted(range(len(x)), key = lambda i : x[i], reverse = True) ]\n",
        "        return output"
      ]
    },
    {
      "cell_type": "code",
      "execution_count": null,
      "id": "39494f89-b831-4a2b-b90e-4ac0f0dfa3f8",
      "metadata": {
        "id": "39494f89-b831-4a2b-b90e-4ac0f0dfa3f8"
      },
      "outputs": [],
      "source": [
        "class Solution:\n",
        "    def sortTheStudents(self, score: List[List[int]], k: int) -> List[List[int]]:\n",
        "        return sorted(score, key = lambda x : x[k], reverse = True)"
      ]
    },
    {
      "cell_type": "markdown",
      "id": "2ecdf34d-ad76-4c36-9d2b-9cc465f17dea",
      "metadata": {
        "id": "2ecdf34d-ad76-4c36-9d2b-9cc465f17dea"
      },
      "source": [
        "### 1828. Queries on Number of Points Inside a Circle\n",
        "\n",
        "https://leetcode.com/problems/queries-on-number-of-points-inside-a-circle"
      ]
    },
    {
      "cell_type": "code",
      "execution_count": null,
      "id": "fc4735b3-efd5-45c9-b357-c91c9f135493",
      "metadata": {
        "id": "fc4735b3-efd5-45c9-b357-c91c9f135493"
      },
      "outputs": [],
      "source": [
        "class Solution:\n",
        "    def countPoints(self, points: List[List[int]], queries: List[List[int]]) -> List[int]:\n",
        "        output = []\n",
        "        for item in queries:\n",
        "            x, y, r = item\n",
        "            c = 0\n",
        "            for i, p in enumerate(points):\n",
        "                if (x - p[0]) ** 2 + (y - p[1]) ** 2 <= r ** 2:\n",
        "                    c += 1\n",
        "            output.append(c)\n",
        "        return output"
      ]
    },
    {
      "cell_type": "markdown",
      "source": [
        "## 2024-08-16"
      ],
      "metadata": {
        "id": "wZzLjkrpdIpx"
      },
      "id": "wZzLjkrpdIpx"
    },
    {
      "cell_type": "markdown",
      "source": [
        "### 345. Reverse Vowels of a String\n",
        "\n",
        "https://leetcode.com/problems/reverse-vowels-of-a-string/"
      ],
      "metadata": {
        "id": "tJR4ZlMkdInC"
      },
      "id": "tJR4ZlMkdInC"
    },
    {
      "cell_type": "code",
      "execution_count": null,
      "id": "944f9b72-3d13-4f5c-96a9-9f9ffcf4342d",
      "metadata": {
        "id": "944f9b72-3d13-4f5c-96a9-9f9ffcf4342d"
      },
      "outputs": [],
      "source": [
        "class Solution:\n",
        "    def reverseVowels(self, s: str) -> str:\n",
        "        x = [ c for c in s if c in \"aeiouAEIOU\" ]\n",
        "        n = len(x) - 1\n",
        "        j = 0\n",
        "        output = \"\"\n",
        "        for i in range(len(s)):\n",
        "            if s[i] in \"aeiouAEIOU\":\n",
        "                output += x[n - j]\n",
        "                j += 1\n",
        "            else:\n",
        "                output += s[i]\n",
        "        return output"
      ]
    },
    {
      "cell_type": "markdown",
      "id": "00b1b256-f420-4bd8-a4f9-8818c8e9a7f6",
      "metadata": {
        "id": "00b1b256-f420-4bd8-a4f9-8818c8e9a7f6"
      },
      "source": [
        "## TODO"
      ]
    },
    {
      "cell_type": "markdown",
      "id": "c50d3ced-bde0-4391-bb19-de1c464d58e5",
      "metadata": {
        "id": "c50d3ced-bde0-4391-bb19-de1c464d58e5"
      },
      "source": [
        "### 349. Intersection of Two Arrays"
      ]
    },
    {
      "cell_type": "code",
      "execution_count": null,
      "id": "ec053df5-6e12-465d-9ec7-15621f660c86",
      "metadata": {
        "id": "ec053df5-6e12-465d-9ec7-15621f660c86"
      },
      "outputs": [],
      "source": []
    },
    {
      "cell_type": "markdown",
      "id": "8988ab3a-b19e-48d7-a046-a5ac9c2b4cba",
      "metadata": {
        "id": "8988ab3a-b19e-48d7-a046-a5ac9c2b4cba"
      },
      "source": [
        "### 401. Binary Watch"
      ]
    },
    {
      "cell_type": "code",
      "execution_count": null,
      "id": "a8db69e8-195e-42f7-b504-017f5ed46b7b",
      "metadata": {
        "id": "a8db69e8-195e-42f7-b504-017f5ed46b7b"
      },
      "outputs": [],
      "source": []
    },
    {
      "cell_type": "markdown",
      "id": "f7bb2309-330d-4c0a-9e43-681303063992",
      "metadata": {
        "id": "f7bb2309-330d-4c0a-9e43-681303063992"
      },
      "source": [
        "### 168. Excel Sheet Column Title"
      ]
    },
    {
      "cell_type": "code",
      "execution_count": null,
      "id": "a815b52c-a2c9-4fb2-a577-ab1fcacc9bd9",
      "metadata": {
        "id": "a815b52c-a2c9-4fb2-a577-ab1fcacc9bd9",
        "outputId": "657073bf-01af-4ae7-cc3e-23151f8135bb"
      },
      "outputs": [
        {
          "data": {
            "text/plain": [
              "'A'"
            ]
          },
          "execution_count": 77,
          "metadata": {},
          "output_type": "execute_result"
        }
      ],
      "source": [
        "#### TODO\n",
        "#### wrong answer\n",
        "\n",
        "class Solution:\n",
        "\n",
        "    def convertToTitle(self, columnNumber: int) -> str:\n",
        "        output = \"\"\n",
        "        x = columnNumber\n",
        "        for i in range(7, -1, -1):\n",
        "            q = x // int(26 ** i)\n",
        "            r = x % int(26 ** i)\n",
        "            output += chr(int(i + 1 + ord(\"A\") - 1)) if q > 0 else \"\"\n",
        "            x = r\n",
        "            print(i, q, r)\n",
        "        return output"
      ]
    },
    {
      "cell_type": "markdown",
      "id": "dedfb517-09b9-4eaa-8620-fb868bee5987",
      "metadata": {
        "id": "dedfb517-09b9-4eaa-8620-fb868bee5987"
      },
      "source": [
        "### 102. Binary Tree Level Order Traversal"
      ]
    },
    {
      "cell_type": "code",
      "execution_count": null,
      "id": "d376b18f-59cd-4800-9067-6d16dd255891",
      "metadata": {
        "id": "d376b18f-59cd-4800-9067-6d16dd255891"
      },
      "outputs": [],
      "source": []
    },
    {
      "cell_type": "markdown",
      "id": "a3c9b7b8-73c2-4d5f-8e52-3f7612253d70",
      "metadata": {
        "id": "a3c9b7b8-73c2-4d5f-8e52-3f7612253d70"
      },
      "source": [
        "### 137. Single Number II"
      ]
    },
    {
      "cell_type": "code",
      "execution_count": null,
      "id": "e578f5fb-a912-49af-9d45-9ed10d402e9a",
      "metadata": {
        "id": "e578f5fb-a912-49af-9d45-9ed10d402e9a"
      },
      "outputs": [],
      "source": [
        "#### Use bits to make records for occurrence of numbers\n",
        "\n",
        "class Solution:\n",
        "    def singleNumber(self, nums: List[int]) -> int:\n",
        "        ones = 0\n",
        "        twos = 0\n",
        "\n",
        "        for num in nums:\n",
        "            ones ^= (num & ~twos)\n",
        "            twos ^= (num & ~ones)\n",
        "\n",
        "        return ones"
      ]
    },
    {
      "cell_type": "markdown",
      "id": "a55af5c2-cb7d-4cce-bbe9-dff3f1c2e80a",
      "metadata": {
        "id": "a55af5c2-cb7d-4cce-bbe9-dff3f1c2e80a"
      },
      "source": [
        "### 543. Diameter of Binary Tree"
      ]
    },
    {
      "cell_type": "code",
      "execution_count": null,
      "id": "791da675-8db0-4822-94b6-74f840be6104",
      "metadata": {
        "id": "791da675-8db0-4822-94b6-74f840be6104"
      },
      "outputs": [],
      "source": []
    },
    {
      "cell_type": "markdown",
      "id": "76e485b9-8f1b-4d52-9fa1-514f0005c8a7",
      "metadata": {
        "id": "76e485b9-8f1b-4d52-9fa1-514f0005c8a7"
      },
      "source": [
        "### 2160. Minimum Sum of Four Digit Number After Splitting Digits\n",
        "\n",
        "https://leetcode.com/problems/minimum-sum-of-four-digit-number-after-splitting-digits"
      ]
    },
    {
      "cell_type": "code",
      "execution_count": null,
      "id": "fae6c2e6-3036-47b7-84e0-c6632d48beb8",
      "metadata": {
        "id": "fae6c2e6-3036-47b7-84e0-c6632d48beb8"
      },
      "outputs": [],
      "source": []
    }
  ],
  "metadata": {
    "kernelspec": {
      "display_name": "Python 3 (ipykernel)",
      "language": "python",
      "name": "python3"
    },
    "language_info": {
      "codemirror_mode": {
        "name": "ipython",
        "version": 3
      },
      "file_extension": ".py",
      "mimetype": "text/x-python",
      "name": "python",
      "nbconvert_exporter": "python",
      "pygments_lexer": "ipython3",
      "version": "3.10.12"
    },
    "colab": {
      "provenance": [],
      "include_colab_link": true
    }
  },
  "nbformat": 4,
  "nbformat_minor": 5
}